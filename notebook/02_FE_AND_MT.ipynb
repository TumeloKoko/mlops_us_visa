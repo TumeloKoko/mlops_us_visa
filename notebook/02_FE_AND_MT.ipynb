{
 "cells": [
  {
   "cell_type": "markdown",
   "id": "648e3728",
   "metadata": {},
   "source": [
    "# Data Pre-Processing\n"
   ]
  },
  {
   "cell_type": "markdown",
   "id": "76b13e57",
   "metadata": {},
   "source": [
    "## Import Packages\n"
   ]
  },
  {
   "cell_type": "code",
   "execution_count": null,
   "id": "3fb6b8d7",
   "metadata": {},
   "outputs": [],
   "source": [
    "import pandas as pd\n",
    "import numpy as np\n",
    "import matplotlib.pyplot as plt\n",
    "import seaborn as sns\n",
    "import warnings\n",
    "\n",
    "warnings.filterwarnings(\"ignore\")\n",
    "pd.pandas.set_option(\"display.max_columns\", None)\n"
   ]
  },
  {
   "cell_type": "markdown",
   "id": "09c558db",
   "metadata": {},
   "source": [
    "## Import Data\n"
   ]
  },
  {
   "cell_type": "code",
   "execution_count": null,
   "id": "d0f008a4",
   "metadata": {},
   "outputs": [
    {
     "data": {
      "application/vnd.microsoft.datawrangler.viewer.v0+json": {
       "columns": [
        {
         "name": "index",
         "rawType": "int64",
         "type": "integer"
        },
        {
         "name": "case_id",
         "rawType": "object",
         "type": "string"
        },
        {
         "name": "continent",
         "rawType": "object",
         "type": "string"
        },
        {
         "name": "education_of_employee",
         "rawType": "object",
         "type": "string"
        },
        {
         "name": "has_job_experience",
         "rawType": "object",
         "type": "string"
        },
        {
         "name": "requires_job_training",
         "rawType": "object",
         "type": "string"
        },
        {
         "name": "no_of_employees",
         "rawType": "int64",
         "type": "integer"
        },
        {
         "name": "yr_of_estab",
         "rawType": "int64",
         "type": "integer"
        },
        {
         "name": "region_of_employment",
         "rawType": "object",
         "type": "string"
        },
        {
         "name": "prevailing_wage",
         "rawType": "float64",
         "type": "float"
        },
        {
         "name": "unit_of_wage",
         "rawType": "object",
         "type": "string"
        },
        {
         "name": "full_time_position",
         "rawType": "object",
         "type": "string"
        },
        {
         "name": "case_status",
         "rawType": "object",
         "type": "string"
        }
       ],
       "ref": "571d10dd-ab51-4b38-8f1b-612766a980d1",
       "rows": [
        [
         "0",
         "EZYV01",
         "Asia",
         "High School",
         "N",
         "N",
         "14513",
         "2007",
         "West",
         "592.2029",
         "Hour",
         "Y",
         "Denied"
        ],
        [
         "1",
         "EZYV02",
         "Asia",
         "Master's",
         "Y",
         "N",
         "2412",
         "2002",
         "Northeast",
         "83425.65",
         "Year",
         "Y",
         "Certified"
        ],
        [
         "2",
         "EZYV03",
         "Asia",
         "Bachelor's",
         "N",
         "Y",
         "44444",
         "2008",
         "West",
         "122996.86",
         "Year",
         "Y",
         "Denied"
        ],
        [
         "3",
         "EZYV04",
         "Asia",
         "Bachelor's",
         "N",
         "N",
         "98",
         "1897",
         "West",
         "83434.03",
         "Year",
         "Y",
         "Denied"
        ],
        [
         "4",
         "EZYV05",
         "Africa",
         "Master's",
         "Y",
         "N",
         "1082",
         "2005",
         "South",
         "149907.39",
         "Year",
         "Y",
         "Certified"
        ]
       ],
       "shape": {
        "columns": 12,
        "rows": 5
       }
      },
      "text/html": [
       "<div>\n",
       "<style scoped>\n",
       "    .dataframe tbody tr th:only-of-type {\n",
       "        vertical-align: middle;\n",
       "    }\n",
       "\n",
       "    .dataframe tbody tr th {\n",
       "        vertical-align: top;\n",
       "    }\n",
       "\n",
       "    .dataframe thead th {\n",
       "        text-align: right;\n",
       "    }\n",
       "</style>\n",
       "<table border=\"1\" class=\"dataframe\">\n",
       "  <thead>\n",
       "    <tr style=\"text-align: right;\">\n",
       "      <th></th>\n",
       "      <th>case_id</th>\n",
       "      <th>continent</th>\n",
       "      <th>education_of_employee</th>\n",
       "      <th>has_job_experience</th>\n",
       "      <th>requires_job_training</th>\n",
       "      <th>no_of_employees</th>\n",
       "      <th>yr_of_estab</th>\n",
       "      <th>region_of_employment</th>\n",
       "      <th>prevailing_wage</th>\n",
       "      <th>unit_of_wage</th>\n",
       "      <th>full_time_position</th>\n",
       "      <th>case_status</th>\n",
       "    </tr>\n",
       "  </thead>\n",
       "  <tbody>\n",
       "    <tr>\n",
       "      <th>0</th>\n",
       "      <td>EZYV01</td>\n",
       "      <td>Asia</td>\n",
       "      <td>High School</td>\n",
       "      <td>N</td>\n",
       "      <td>N</td>\n",
       "      <td>14513</td>\n",
       "      <td>2007</td>\n",
       "      <td>West</td>\n",
       "      <td>592.2029</td>\n",
       "      <td>Hour</td>\n",
       "      <td>Y</td>\n",
       "      <td>Denied</td>\n",
       "    </tr>\n",
       "    <tr>\n",
       "      <th>1</th>\n",
       "      <td>EZYV02</td>\n",
       "      <td>Asia</td>\n",
       "      <td>Master's</td>\n",
       "      <td>Y</td>\n",
       "      <td>N</td>\n",
       "      <td>2412</td>\n",
       "      <td>2002</td>\n",
       "      <td>Northeast</td>\n",
       "      <td>83425.6500</td>\n",
       "      <td>Year</td>\n",
       "      <td>Y</td>\n",
       "      <td>Certified</td>\n",
       "    </tr>\n",
       "    <tr>\n",
       "      <th>2</th>\n",
       "      <td>EZYV03</td>\n",
       "      <td>Asia</td>\n",
       "      <td>Bachelor's</td>\n",
       "      <td>N</td>\n",
       "      <td>Y</td>\n",
       "      <td>44444</td>\n",
       "      <td>2008</td>\n",
       "      <td>West</td>\n",
       "      <td>122996.8600</td>\n",
       "      <td>Year</td>\n",
       "      <td>Y</td>\n",
       "      <td>Denied</td>\n",
       "    </tr>\n",
       "    <tr>\n",
       "      <th>3</th>\n",
       "      <td>EZYV04</td>\n",
       "      <td>Asia</td>\n",
       "      <td>Bachelor's</td>\n",
       "      <td>N</td>\n",
       "      <td>N</td>\n",
       "      <td>98</td>\n",
       "      <td>1897</td>\n",
       "      <td>West</td>\n",
       "      <td>83434.0300</td>\n",
       "      <td>Year</td>\n",
       "      <td>Y</td>\n",
       "      <td>Denied</td>\n",
       "    </tr>\n",
       "    <tr>\n",
       "      <th>4</th>\n",
       "      <td>EZYV05</td>\n",
       "      <td>Africa</td>\n",
       "      <td>Master's</td>\n",
       "      <td>Y</td>\n",
       "      <td>N</td>\n",
       "      <td>1082</td>\n",
       "      <td>2005</td>\n",
       "      <td>South</td>\n",
       "      <td>149907.3900</td>\n",
       "      <td>Year</td>\n",
       "      <td>Y</td>\n",
       "      <td>Certified</td>\n",
       "    </tr>\n",
       "  </tbody>\n",
       "</table>\n",
       "</div>"
      ],
      "text/plain": [
       "  case_id continent education_of_employee has_job_experience  \\\n",
       "0  EZYV01      Asia           High School                  N   \n",
       "1  EZYV02      Asia              Master's                  Y   \n",
       "2  EZYV03      Asia            Bachelor's                  N   \n",
       "3  EZYV04      Asia            Bachelor's                  N   \n",
       "4  EZYV05    Africa              Master's                  Y   \n",
       "\n",
       "  requires_job_training  no_of_employees  yr_of_estab region_of_employment  \\\n",
       "0                     N            14513         2007                 West   \n",
       "1                     N             2412         2002            Northeast   \n",
       "2                     Y            44444         2008                 West   \n",
       "3                     N               98         1897                 West   \n",
       "4                     N             1082         2005                South   \n",
       "\n",
       "   prevailing_wage unit_of_wage full_time_position case_status  \n",
       "0         592.2029         Hour                  Y      Denied  \n",
       "1       83425.6500         Year                  Y   Certified  \n",
       "2      122996.8600         Year                  Y      Denied  \n",
       "3       83434.0300         Year                  Y      Denied  \n",
       "4      149907.3900         Year                  Y   Certified  "
      ]
     },
     "execution_count": 2,
     "metadata": {},
     "output_type": "execute_result"
    }
   ],
   "source": [
    "df = pd.read_csv(\"Visadataset.csv\")\n",
    "df.head(5)\n"
   ]
  },
  {
   "cell_type": "code",
   "execution_count": null,
   "id": "a66c9662",
   "metadata": {},
   "outputs": [
    {
     "data": {
      "text/plain": [
       "(25480, 12)"
      ]
     },
     "execution_count": 3,
     "metadata": {},
     "output_type": "execute_result"
    }
   ],
   "source": [
    "df.shape\n"
   ]
  },
  {
   "cell_type": "markdown",
   "id": "a026134c",
   "metadata": {},
   "source": [
    "# Data Cleaning\n"
   ]
  },
  {
   "cell_type": "markdown",
   "id": "ffbd118c",
   "metadata": {},
   "source": [
    "## Handling Missing values\n"
   ]
  },
  {
   "cell_type": "markdown",
   "id": "0c40d129",
   "metadata": {},
   "source": [
    "- Handle Missing values\n",
    "- Handling Duplicates\n",
    "- Check data types\n",
    "- Understand the dataset\n"
   ]
  },
  {
   "cell_type": "markdown",
   "id": "562edbb9",
   "metadata": {},
   "source": [
    "### Check Null Values\n"
   ]
  },
  {
   "cell_type": "code",
   "execution_count": null,
   "id": "a7a50452",
   "metadata": {},
   "outputs": [],
   "source": [
    "features_with_na = [ features for features in df.columns if df[features].isnull().sum() >= 1]\n",
    "for feature in features_with_na:\n",
    "  print(feature, np.round(df[feature].isnull().sum() * 100, 5), \"% missing values\")\n"
   ]
  },
  {
   "cell_type": "code",
   "execution_count": null,
   "id": "2d695d89",
   "metadata": {},
   "outputs": [
    {
     "data": {
      "text/plain": [
       "[]"
      ]
     },
     "execution_count": 6,
     "metadata": {},
     "output_type": "execute_result"
    }
   ],
   "source": [
    "features_with_na\n"
   ]
  },
  {
   "cell_type": "markdown",
   "id": "59c23a81",
   "metadata": {},
   "source": [
    "- **There are no null values**\n"
   ]
  },
  {
   "cell_type": "markdown",
   "id": "52ce2b9b",
   "metadata": {},
   "source": [
    "### Handling duplicates\n"
   ]
  },
  {
   "cell_type": "code",
   "execution_count": null,
   "id": "e29f76d0",
   "metadata": {},
   "outputs": [
    {
     "data": {
      "text/plain": [
       "0"
      ]
     },
     "execution_count": 8,
     "metadata": {},
     "output_type": "execute_result"
    }
   ],
   "source": [
    "df.duplicated().sum()\n"
   ]
  },
  {
   "cell_type": "markdown",
   "id": "dc2fe2cd",
   "metadata": {},
   "source": [
    "- **There are no duplicates in the data**\n"
   ]
  },
  {
   "cell_type": "markdown",
   "id": "f53809b1",
   "metadata": {},
   "source": [
    "### Remove unnecessary columns\n"
   ]
  },
  {
   "cell_type": "code",
   "execution_count": null,
   "id": "6515cbaf",
   "metadata": {},
   "outputs": [],
   "source": [
    "df.drop(\"case_id\", inplace=True, axis=1)\n"
   ]
  },
  {
   "cell_type": "code",
   "execution_count": null,
   "id": "0a82b92a",
   "metadata": {},
   "outputs": [
    {
     "data": {
      "application/vnd.microsoft.datawrangler.viewer.v0+json": {
       "columns": [
        {
         "name": "index",
         "rawType": "int64",
         "type": "integer"
        },
        {
         "name": "continent",
         "rawType": "object",
         "type": "string"
        },
        {
         "name": "education_of_employee",
         "rawType": "object",
         "type": "string"
        },
        {
         "name": "has_job_experience",
         "rawType": "object",
         "type": "string"
        },
        {
         "name": "requires_job_training",
         "rawType": "object",
         "type": "string"
        },
        {
         "name": "no_of_employees",
         "rawType": "int64",
         "type": "integer"
        },
        {
         "name": "yr_of_estab",
         "rawType": "int64",
         "type": "integer"
        },
        {
         "name": "region_of_employment",
         "rawType": "object",
         "type": "string"
        },
        {
         "name": "prevailing_wage",
         "rawType": "float64",
         "type": "float"
        },
        {
         "name": "unit_of_wage",
         "rawType": "object",
         "type": "string"
        },
        {
         "name": "full_time_position",
         "rawType": "object",
         "type": "string"
        },
        {
         "name": "case_status",
         "rawType": "object",
         "type": "string"
        }
       ],
       "ref": "3eafaf6a-e283-4b00-83de-5ad9bed80a64",
       "rows": [
        [
         "0",
         "Asia",
         "High School",
         "N",
         "N",
         "14513",
         "2007",
         "West",
         "592.2029",
         "Hour",
         "Y",
         "Denied"
        ],
        [
         "1",
         "Asia",
         "Master's",
         "Y",
         "N",
         "2412",
         "2002",
         "Northeast",
         "83425.65",
         "Year",
         "Y",
         "Certified"
        ],
        [
         "2",
         "Asia",
         "Bachelor's",
         "N",
         "Y",
         "44444",
         "2008",
         "West",
         "122996.86",
         "Year",
         "Y",
         "Denied"
        ],
        [
         "3",
         "Asia",
         "Bachelor's",
         "N",
         "N",
         "98",
         "1897",
         "West",
         "83434.03",
         "Year",
         "Y",
         "Denied"
        ],
        [
         "4",
         "Africa",
         "Master's",
         "Y",
         "N",
         "1082",
         "2005",
         "South",
         "149907.39",
         "Year",
         "Y",
         "Certified"
        ]
       ],
       "shape": {
        "columns": 11,
        "rows": 5
       }
      },
      "text/html": [
       "<div>\n",
       "<style scoped>\n",
       "    .dataframe tbody tr th:only-of-type {\n",
       "        vertical-align: middle;\n",
       "    }\n",
       "\n",
       "    .dataframe tbody tr th {\n",
       "        vertical-align: top;\n",
       "    }\n",
       "\n",
       "    .dataframe thead th {\n",
       "        text-align: right;\n",
       "    }\n",
       "</style>\n",
       "<table border=\"1\" class=\"dataframe\">\n",
       "  <thead>\n",
       "    <tr style=\"text-align: right;\">\n",
       "      <th></th>\n",
       "      <th>continent</th>\n",
       "      <th>education_of_employee</th>\n",
       "      <th>has_job_experience</th>\n",
       "      <th>requires_job_training</th>\n",
       "      <th>no_of_employees</th>\n",
       "      <th>yr_of_estab</th>\n",
       "      <th>region_of_employment</th>\n",
       "      <th>prevailing_wage</th>\n",
       "      <th>unit_of_wage</th>\n",
       "      <th>full_time_position</th>\n",
       "      <th>case_status</th>\n",
       "    </tr>\n",
       "  </thead>\n",
       "  <tbody>\n",
       "    <tr>\n",
       "      <th>0</th>\n",
       "      <td>Asia</td>\n",
       "      <td>High School</td>\n",
       "      <td>N</td>\n",
       "      <td>N</td>\n",
       "      <td>14513</td>\n",
       "      <td>2007</td>\n",
       "      <td>West</td>\n",
       "      <td>592.2029</td>\n",
       "      <td>Hour</td>\n",
       "      <td>Y</td>\n",
       "      <td>Denied</td>\n",
       "    </tr>\n",
       "    <tr>\n",
       "      <th>1</th>\n",
       "      <td>Asia</td>\n",
       "      <td>Master's</td>\n",
       "      <td>Y</td>\n",
       "      <td>N</td>\n",
       "      <td>2412</td>\n",
       "      <td>2002</td>\n",
       "      <td>Northeast</td>\n",
       "      <td>83425.6500</td>\n",
       "      <td>Year</td>\n",
       "      <td>Y</td>\n",
       "      <td>Certified</td>\n",
       "    </tr>\n",
       "    <tr>\n",
       "      <th>2</th>\n",
       "      <td>Asia</td>\n",
       "      <td>Bachelor's</td>\n",
       "      <td>N</td>\n",
       "      <td>Y</td>\n",
       "      <td>44444</td>\n",
       "      <td>2008</td>\n",
       "      <td>West</td>\n",
       "      <td>122996.8600</td>\n",
       "      <td>Year</td>\n",
       "      <td>Y</td>\n",
       "      <td>Denied</td>\n",
       "    </tr>\n",
       "    <tr>\n",
       "      <th>3</th>\n",
       "      <td>Asia</td>\n",
       "      <td>Bachelor's</td>\n",
       "      <td>N</td>\n",
       "      <td>N</td>\n",
       "      <td>98</td>\n",
       "      <td>1897</td>\n",
       "      <td>West</td>\n",
       "      <td>83434.0300</td>\n",
       "      <td>Year</td>\n",
       "      <td>Y</td>\n",
       "      <td>Denied</td>\n",
       "    </tr>\n",
       "    <tr>\n",
       "      <th>4</th>\n",
       "      <td>Africa</td>\n",
       "      <td>Master's</td>\n",
       "      <td>Y</td>\n",
       "      <td>N</td>\n",
       "      <td>1082</td>\n",
       "      <td>2005</td>\n",
       "      <td>South</td>\n",
       "      <td>149907.3900</td>\n",
       "      <td>Year</td>\n",
       "      <td>Y</td>\n",
       "      <td>Certified</td>\n",
       "    </tr>\n",
       "  </tbody>\n",
       "</table>\n",
       "</div>"
      ],
      "text/plain": [
       "  continent education_of_employee has_job_experience requires_job_training  \\\n",
       "0      Asia           High School                  N                     N   \n",
       "1      Asia              Master's                  Y                     N   \n",
       "2      Asia            Bachelor's                  N                     Y   \n",
       "3      Asia            Bachelor's                  N                     N   \n",
       "4    Africa              Master's                  Y                     N   \n",
       "\n",
       "   no_of_employees  yr_of_estab region_of_employment  prevailing_wage  \\\n",
       "0            14513         2007                 West         592.2029   \n",
       "1             2412         2002            Northeast       83425.6500   \n",
       "2            44444         2008                 West      122996.8600   \n",
       "3               98         1897                 West       83434.0300   \n",
       "4             1082         2005                South      149907.3900   \n",
       "\n",
       "  unit_of_wage full_time_position case_status  \n",
       "0         Hour                  Y      Denied  \n",
       "1         Year                  Y   Certified  \n",
       "2         Year                  Y      Denied  \n",
       "3         Year                  Y      Denied  \n",
       "4         Year                  Y   Certified  "
      ]
     },
     "execution_count": 10,
     "metadata": {},
     "output_type": "execute_result"
    }
   ],
   "source": [
    "df.head()\n"
   ]
  },
  {
   "cell_type": "markdown",
   "id": "09b0b86f",
   "metadata": {},
   "source": [
    "# Feature Engineering\n"
   ]
  },
  {
   "cell_type": "markdown",
   "id": "eefcd469",
   "metadata": {},
   "source": [
    "## Feature Extraction\n"
   ]
  },
  {
   "cell_type": "markdown",
   "id": "afeea582",
   "metadata": {},
   "source": [
    "### Get company's age from `yr_of_estab`\n"
   ]
  },
  {
   "cell_type": "code",
   "execution_count": null,
   "id": "b3547221",
   "metadata": {},
   "outputs": [],
   "source": [
    "from datetime import date\n"
   ]
  },
  {
   "cell_type": "code",
   "execution_count": null,
   "id": "1c7ad91e",
   "metadata": {},
   "outputs": [
    {
     "data": {
      "text/plain": [
       "2025"
      ]
     },
     "execution_count": 13,
     "metadata": {},
     "output_type": "execute_result"
    }
   ],
   "source": [
    "current_year = date.today().year\n",
    "current_year\n"
   ]
  },
  {
   "cell_type": "code",
   "execution_count": null,
   "id": "44b462a7",
   "metadata": {},
   "outputs": [
    {
     "data": {
      "application/vnd.microsoft.datawrangler.viewer.v0+json": {
       "columns": [
        {
         "name": "index",
         "rawType": "int64",
         "type": "integer"
        },
        {
         "name": "continent",
         "rawType": "object",
         "type": "string"
        },
        {
         "name": "education_of_employee",
         "rawType": "object",
         "type": "string"
        },
        {
         "name": "has_job_experience",
         "rawType": "object",
         "type": "string"
        },
        {
         "name": "requires_job_training",
         "rawType": "object",
         "type": "string"
        },
        {
         "name": "no_of_employees",
         "rawType": "int64",
         "type": "integer"
        },
        {
         "name": "yr_of_estab",
         "rawType": "int64",
         "type": "integer"
        },
        {
         "name": "region_of_employment",
         "rawType": "object",
         "type": "string"
        },
        {
         "name": "prevailing_wage",
         "rawType": "float64",
         "type": "float"
        },
        {
         "name": "unit_of_wage",
         "rawType": "object",
         "type": "string"
        },
        {
         "name": "full_time_position",
         "rawType": "object",
         "type": "string"
        },
        {
         "name": "case_status",
         "rawType": "object",
         "type": "string"
        },
        {
         "name": "company_age",
         "rawType": "int64",
         "type": "integer"
        }
       ],
       "ref": "452f6a0e-e3a8-487b-ab99-80159d12d9c3",
       "rows": [
        [
         "0",
         "Asia",
         "High School",
         "N",
         "N",
         "14513",
         "2007",
         "West",
         "592.2029",
         "Hour",
         "Y",
         "Denied",
         "18"
        ],
        [
         "1",
         "Asia",
         "Master's",
         "Y",
         "N",
         "2412",
         "2002",
         "Northeast",
         "83425.65",
         "Year",
         "Y",
         "Certified",
         "23"
        ],
        [
         "2",
         "Asia",
         "Bachelor's",
         "N",
         "Y",
         "44444",
         "2008",
         "West",
         "122996.86",
         "Year",
         "Y",
         "Denied",
         "17"
        ],
        [
         "3",
         "Asia",
         "Bachelor's",
         "N",
         "N",
         "98",
         "1897",
         "West",
         "83434.03",
         "Year",
         "Y",
         "Denied",
         "128"
        ],
        [
         "4",
         "Africa",
         "Master's",
         "Y",
         "N",
         "1082",
         "2005",
         "South",
         "149907.39",
         "Year",
         "Y",
         "Certified",
         "20"
        ]
       ],
       "shape": {
        "columns": 12,
        "rows": 5
       }
      },
      "text/html": [
       "<div>\n",
       "<style scoped>\n",
       "    .dataframe tbody tr th:only-of-type {\n",
       "        vertical-align: middle;\n",
       "    }\n",
       "\n",
       "    .dataframe tbody tr th {\n",
       "        vertical-align: top;\n",
       "    }\n",
       "\n",
       "    .dataframe thead th {\n",
       "        text-align: right;\n",
       "    }\n",
       "</style>\n",
       "<table border=\"1\" class=\"dataframe\">\n",
       "  <thead>\n",
       "    <tr style=\"text-align: right;\">\n",
       "      <th></th>\n",
       "      <th>continent</th>\n",
       "      <th>education_of_employee</th>\n",
       "      <th>has_job_experience</th>\n",
       "      <th>requires_job_training</th>\n",
       "      <th>no_of_employees</th>\n",
       "      <th>yr_of_estab</th>\n",
       "      <th>region_of_employment</th>\n",
       "      <th>prevailing_wage</th>\n",
       "      <th>unit_of_wage</th>\n",
       "      <th>full_time_position</th>\n",
       "      <th>case_status</th>\n",
       "      <th>company_age</th>\n",
       "    </tr>\n",
       "  </thead>\n",
       "  <tbody>\n",
       "    <tr>\n",
       "      <th>0</th>\n",
       "      <td>Asia</td>\n",
       "      <td>High School</td>\n",
       "      <td>N</td>\n",
       "      <td>N</td>\n",
       "      <td>14513</td>\n",
       "      <td>2007</td>\n",
       "      <td>West</td>\n",
       "      <td>592.2029</td>\n",
       "      <td>Hour</td>\n",
       "      <td>Y</td>\n",
       "      <td>Denied</td>\n",
       "      <td>18</td>\n",
       "    </tr>\n",
       "    <tr>\n",
       "      <th>1</th>\n",
       "      <td>Asia</td>\n",
       "      <td>Master's</td>\n",
       "      <td>Y</td>\n",
       "      <td>N</td>\n",
       "      <td>2412</td>\n",
       "      <td>2002</td>\n",
       "      <td>Northeast</td>\n",
       "      <td>83425.6500</td>\n",
       "      <td>Year</td>\n",
       "      <td>Y</td>\n",
       "      <td>Certified</td>\n",
       "      <td>23</td>\n",
       "    </tr>\n",
       "    <tr>\n",
       "      <th>2</th>\n",
       "      <td>Asia</td>\n",
       "      <td>Bachelor's</td>\n",
       "      <td>N</td>\n",
       "      <td>Y</td>\n",
       "      <td>44444</td>\n",
       "      <td>2008</td>\n",
       "      <td>West</td>\n",
       "      <td>122996.8600</td>\n",
       "      <td>Year</td>\n",
       "      <td>Y</td>\n",
       "      <td>Denied</td>\n",
       "      <td>17</td>\n",
       "    </tr>\n",
       "    <tr>\n",
       "      <th>3</th>\n",
       "      <td>Asia</td>\n",
       "      <td>Bachelor's</td>\n",
       "      <td>N</td>\n",
       "      <td>N</td>\n",
       "      <td>98</td>\n",
       "      <td>1897</td>\n",
       "      <td>West</td>\n",
       "      <td>83434.0300</td>\n",
       "      <td>Year</td>\n",
       "      <td>Y</td>\n",
       "      <td>Denied</td>\n",
       "      <td>128</td>\n",
       "    </tr>\n",
       "    <tr>\n",
       "      <th>4</th>\n",
       "      <td>Africa</td>\n",
       "      <td>Master's</td>\n",
       "      <td>Y</td>\n",
       "      <td>N</td>\n",
       "      <td>1082</td>\n",
       "      <td>2005</td>\n",
       "      <td>South</td>\n",
       "      <td>149907.3900</td>\n",
       "      <td>Year</td>\n",
       "      <td>Y</td>\n",
       "      <td>Certified</td>\n",
       "      <td>20</td>\n",
       "    </tr>\n",
       "  </tbody>\n",
       "</table>\n",
       "</div>"
      ],
      "text/plain": [
       "  continent education_of_employee has_job_experience requires_job_training  \\\n",
       "0      Asia           High School                  N                     N   \n",
       "1      Asia              Master's                  Y                     N   \n",
       "2      Asia            Bachelor's                  N                     Y   \n",
       "3      Asia            Bachelor's                  N                     N   \n",
       "4    Africa              Master's                  Y                     N   \n",
       "\n",
       "   no_of_employees  yr_of_estab region_of_employment  prevailing_wage  \\\n",
       "0            14513         2007                 West         592.2029   \n",
       "1             2412         2002            Northeast       83425.6500   \n",
       "2            44444         2008                 West      122996.8600   \n",
       "3               98         1897                 West       83434.0300   \n",
       "4             1082         2005                South      149907.3900   \n",
       "\n",
       "  unit_of_wage full_time_position case_status  company_age  \n",
       "0         Hour                  Y      Denied           18  \n",
       "1         Year                  Y   Certified           23  \n",
       "2         Year                  Y      Denied           17  \n",
       "3         Year                  Y      Denied          128  \n",
       "4         Year                  Y   Certified           20  "
      ]
     },
     "execution_count": 14,
     "metadata": {},
     "output_type": "execute_result"
    }
   ],
   "source": [
    "df[\"company_age\"] = current_year - df[\"yr_of_estab\"]\n",
    "df.head()\n"
   ]
  },
  {
   "cell_type": "code",
   "execution_count": null,
   "id": "11c35032",
   "metadata": {},
   "outputs": [],
   "source": [
    "# Drop yr_of_estab as no longer needed\n",
    "df.drop(\"yr_of_estab\", inplace=True, axis=1)\n"
   ]
  },
  {
   "cell_type": "markdown",
   "id": "5fe790f8",
   "metadata": {},
   "source": [
    "## Type of Features\n"
   ]
  },
  {
   "cell_type": "markdown",
   "id": "5d3a5d57",
   "metadata": {},
   "source": [
    "### Numeric Features\n"
   ]
  },
  {
   "cell_type": "code",
   "execution_count": null,
   "id": "198796a2",
   "metadata": {},
   "outputs": [
    {
     "name": "stdout",
     "output_type": "stream",
     "text": [
      "Number of Numerical Features :  3 ['no_of_employees', 'prevailing_wage', 'company_age']\n"
     ]
    }
   ],
   "source": [
    "num_features = [feature for feature in df.columns if df[feature].dtype != \"O\"]\n",
    "print(\"Number of Numerical Features : \", len(num_features), num_features)\n"
   ]
  },
  {
   "cell_type": "markdown",
   "id": "b88f610f",
   "metadata": {},
   "source": [
    "### Categorical Features\n"
   ]
  },
  {
   "cell_type": "code",
   "execution_count": null,
   "id": "ada6bd2a",
   "metadata": {},
   "outputs": [
    {
     "name": "stdout",
     "output_type": "stream",
     "text": [
      "Number of categorical features :  8 ['continent', 'education_of_employee', 'has_job_experience', 'requires_job_training', 'region_of_employment', 'unit_of_wage', 'full_time_position', 'case_status']\n"
     ]
    }
   ],
   "source": [
    "cat_feature = [feature for feature in df.columns if df[feature].dtype == \"O\"]\n",
    "print(\"Number of categorical features : \", len(cat_feature), cat_feature)\n"
   ]
  },
  {
   "cell_type": "markdown",
   "id": "00a49310",
   "metadata": {},
   "source": [
    "### Discrete Features\n"
   ]
  },
  {
   "cell_type": "code",
   "execution_count": null,
   "id": "42c5e8c5",
   "metadata": {},
   "outputs": [
    {
     "name": "stdout",
     "output_type": "stream",
     "text": [
      " Number of Discrete features :  0 []\n"
     ]
    }
   ],
   "source": [
    "discrete_feature = [feature for feature in num_features if len(df[feature].unique()) <= 25]\n",
    "print(\" Number of Discrete features : \", len(discrete_feature), discrete_feature)\n"
   ]
  },
  {
   "cell_type": "markdown",
   "id": "2bdc9af0",
   "metadata": {},
   "source": [
    "### Continous Features\n"
   ]
  },
  {
   "cell_type": "code",
   "execution_count": null,
   "id": "98682846",
   "metadata": {},
   "outputs": [
    {
     "name": "stdout",
     "output_type": "stream",
     "text": [
      " Number of Continuous features :  3 ['no_of_employees', 'prevailing_wage', 'company_age']\n"
     ]
    }
   ],
   "source": [
    "continuous_feature = [feature for feature in num_features if feature not in discrete_feature]\n",
    "print(\" Number of Continuous features : \", len(continuous_feature), continuous_feature)\n"
   ]
  },
  {
   "cell_type": "markdown",
   "id": "df7ac23b",
   "metadata": {},
   "source": [
    "## Split into X and Y\n"
   ]
  },
  {
   "cell_type": "markdown",
   "id": "3b062a01",
   "metadata": {},
   "source": [
    "**- Split dataframe into X and y**\n"
   ]
  },
  {
   "cell_type": "code",
   "execution_count": null,
   "id": "ad85bfab",
   "metadata": {},
   "outputs": [],
   "source": [
    "X = df.drop(\"case_status\", axis=1)\n",
    "y = df[\"case_status\"]\n"
   ]
  },
  {
   "cell_type": "code",
   "execution_count": null,
   "id": "3e168084",
   "metadata": {},
   "outputs": [
    {
     "data": {
      "application/vnd.microsoft.datawrangler.viewer.v0+json": {
       "columns": [
        {
         "name": "index",
         "rawType": "int64",
         "type": "integer"
        },
        {
         "name": "case_status",
         "rawType": "object",
         "type": "string"
        }
       ],
       "ref": "7cdb8310-6689-427c-a9c8-9d009e1c7f84",
       "rows": [
        [
         "0",
         "Denied"
        ],
        [
         "1",
         "Certified"
        ],
        [
         "2",
         "Denied"
        ],
        [
         "3",
         "Denied"
        ],
        [
         "4",
         "Certified"
        ]
       ],
       "shape": {
        "columns": 1,
        "rows": 5
       }
      },
      "text/plain": [
       "0       Denied\n",
       "1    Certified\n",
       "2       Denied\n",
       "3       Denied\n",
       "4    Certified\n",
       "Name: case_status, dtype: object"
      ]
     },
     "execution_count": 30,
     "metadata": {},
     "output_type": "execute_result"
    }
   ],
   "source": [
    "y.head()\n"
   ]
  },
  {
   "cell_type": "markdown",
   "id": "a3169439",
   "metadata": {},
   "source": [
    "### Manual encoding: target column\n"
   ]
  },
  {
   "cell_type": "code",
   "execution_count": null,
   "id": "854c41fa",
   "metadata": {},
   "outputs": [
    {
     "data": {
      "text/plain": [
       "array([1, 0, 1, ..., 0, 0, 0])"
      ]
     },
     "execution_count": 31,
     "metadata": {},
     "output_type": "execute_result"
    }
   ],
   "source": [
    "y = np.where(y==\"Denied\", 1, 0)\n",
    "y\n"
   ]
  },
  {
   "cell_type": "markdown",
   "id": "427ba296",
   "metadata": {},
   "source": [
    "# Feature Transformation\n"
   ]
  },
  {
   "cell_type": "markdown",
   "id": "9c67ea3d",
   "metadata": {},
   "source": [
    "## Distribution of Data\n"
   ]
  },
  {
   "cell_type": "code",
   "execution_count": null,
   "id": "b0676edb",
   "metadata": {},
   "outputs": [
    {
     "data": {
      "image/png": "[encoded data removed]",
      "text/plain": [
       "<Figure size 1200x600 with 3 Axes>"
      ]
     },
     "metadata": {},
     "output_type": "display_data"
    }
   ],
   "source": [
    "plt.figure(figsize=(12,6))\n",
    "for i, col in enumerate(num_features):\n",
    "  plt.subplot(2, 2, i + 1)\n",
    "  sns.histplot(x=X[col], color=\"orange\")\n",
    "  plt.xlabel(col)\n",
    "  plt.tight_layout()\n"
   ]
  },
  {
   "cell_type": "markdown",
   "id": "5f8abedd",
   "metadata": {},
   "source": [
    "- `no_of_employees` and `company_age` are skewed\n",
    "- Hence apply a power transform to make data more gaussian-like\n"
   ]
  },
  {
   "cell_type": "markdown",
   "id": "af1ccf96",
   "metadata": {},
   "source": [
    "Power transforms are a family of parametric, monotonic transformations that are applied to make data more Gaussian-like. This is useful for modeling issues related to heteroscedasticity (non-constant variance), or other situations where normality is desired.\n",
    "\n",
    "Currently, PowerTransformer supports the Box-Cox transform and the Yeo-Johnson transform.\n"
   ]
  },
  {
   "cell_type": "markdown",
   "id": "6e2070f4",
   "metadata": {},
   "source": [
    "## Checking Skewness\n"
   ]
  },
  {
   "cell_type": "markdown",
   "id": "354471c5",
   "metadata": {},
   "source": [
    "**What is Skewness ?**\n",
    "\n",
    "- Skewness refers to a distortion or asymmetry that deviates from the symmetrical bell curve, or normal distribution, in a set of data. If the curve is shifted to the left or to the right, it is said to be skewed. Skewness can be quantified as a representation of the extent to which a given distribution varies from a normal distribution. A normal distribution has a skew of zero\n"
   ]
  },
  {
   "cell_type": "code",
   "execution_count": null,
   "id": "ed881b27",
   "metadata": {},
   "outputs": [
    {
     "data": {
      "application/vnd.microsoft.datawrangler.viewer.v0+json": {
       "columns": [
        {
         "name": "index",
         "rawType": "object",
         "type": "string"
        },
        {
         "name": "0",
         "rawType": "float64",
         "type": "float"
        }
       ],
       "ref": "c6bd05b0-754e-49c5-b4eb-b7d8fab6d485",
       "rows": [
        [
         "no_of_employees",
         "12.265260077708275"
        ],
        [
         "prevailing_wage",
         "0.7557760603032042"
        ],
        [
         "company_age",
         "2.037301271676439"
        ]
       ],
       "shape": {
        "columns": 1,
        "rows": 3
       }
      },
      "text/plain": [
       "no_of_employees    12.265260\n",
       "prevailing_wage     0.755776\n",
       "company_age         2.037301\n",
       "dtype: float64"
      ]
     },
     "execution_count": 34,
     "metadata": {},
     "output_type": "execute_result"
    }
   ],
   "source": [
    "X[continuous_feature].skew(axis=0, skipna=True)\n"
   ]
  },
  {
   "cell_type": "markdown",
   "id": "750100b9",
   "metadata": {},
   "source": [
    "- Postively Skewed: `company_age`, `no_of_employees`\n",
    "- We can handle outliers and the check the skewness\n"
   ]
  },
  {
   "cell_type": "markdown",
   "id": "e0362406",
   "metadata": {},
   "source": [
    "## Apply Power transforms\n"
   ]
  },
  {
   "cell_type": "code",
   "execution_count": null,
   "id": "2d1c2d18",
   "metadata": {},
   "outputs": [],
   "source": [
    "from sklearn.preprocessing import PowerTransformer\n"
   ]
  },
  {
   "cell_type": "code",
   "execution_count": null,
   "id": "e81f0652",
   "metadata": {},
   "outputs": [],
   "source": [
    "pt = PowerTransformer(method=\"yeo-johnson\")\n",
    "transform_features = [\"company_age\", \"no_of_employees\"]\n",
    "X_Copy = pt.fit_transform(X[transform_features])\n"
   ]
  },
  {
   "cell_type": "code",
   "execution_count": null,
   "id": "65498e1e",
   "metadata": {},
   "outputs": [],
   "source": [
    "X_Copy = pd.DataFrame(X_Copy, columns=transform_features)\n"
   ]
  },
  {
   "cell_type": "code",
   "execution_count": null,
   "id": "cb64dad7",
   "metadata": {},
   "outputs": [
    {
     "data": {
      "image/png": "[encoded data removed]",
      "text/plain": [
       "<Figure size 1200x600 with 2 Axes>"
      ]
     },
     "metadata": {},
     "output_type": "display_data"
    }
   ],
   "source": [
    "plt.figure(figsize=(12,6))\n",
    "for i, col in enumerate(transform_features):\n",
    "  plt.subplot(2, 2, i + 1)\n",
    "  sns.histplot(x=X_Copy[col], color=\"orange\")\n",
    "  plt.xlabel(col)\n",
    "  plt.tight_layout()\n"
   ]
  },
  {
   "cell_type": "code",
   "execution_count": null,
   "id": "044675e2",
   "metadata": {},
   "outputs": [
    {
     "data": {
      "application/vnd.microsoft.datawrangler.viewer.v0+json": {
       "columns": [
        {
         "name": "index",
         "rawType": "object",
         "type": "string"
        },
        {
         "name": "0",
         "rawType": "float64",
         "type": "float"
        }
       ],
       "ref": "6d5662b9-e7b9-486a-9b1a-4e97cca13597",
       "rows": [
        [
         "company_age",
         "0.11225984915351854"
        ],
        [
         "no_of_employees",
         "0.39933929286094627"
        ]
       ],
       "shape": {
        "columns": 1,
        "rows": 2
       }
      },
      "text/plain": [
       "company_age        0.112260\n",
       "no_of_employees    0.399339\n",
       "dtype: float64"
      ]
     },
     "execution_count": 39,
     "metadata": {},
     "output_type": "execute_result"
    }
   ],
   "source": [
    "X_Copy.skew(axis=0, skipna=True)\n"
   ]
  },
  {
   "cell_type": "markdown",
   "id": "da5af0d9",
   "metadata": {},
   "source": [
    "- So Power transform can be used\n"
   ]
  },
  {
   "cell_type": "markdown",
   "id": "c6cde7f2",
   "metadata": {},
   "source": [
    "# Feature Encoding and Scaling\n"
   ]
  },
  {
   "cell_type": "markdown",
   "id": "93027615",
   "metadata": {},
   "source": [
    "**One Hot Encoding for Columns which had lesser unique values and not ordinal**\n",
    "\n",
    "- One hot encoding is a process by which categorical variables are converted into a form that could be provided to ML algorithms to do a better job in prediction.\n",
    "\n",
    "**Ordinal Encoding for Columns which has many unique categories**\n",
    "\n",
    "- Ordinal encoding is used here as label encoder is supported for column transformer.\n",
    "- Ordinal encoding is used for Ordinal Variable. Variable comprises a finite set of discrete values with a ranked ordering between values.\n",
    "\n",
    "**Standard Scaler**\n",
    "\n",
    "- Standardize features by removing the mean and scaling to unit variance.\n",
    "\n",
    "**Power Transformer**\n",
    "\n",
    "- Power transforms are a technique for transforming numerical input or output variables to have a Gaussian or more-Gaussian-like probability distribution.\n"
   ]
  },
  {
   "cell_type": "code",
   "execution_count": null,
   "id": "b36ca21f",
   "metadata": {},
   "outputs": [
    {
     "name": "stdout",
     "output_type": "stream",
     "text": [
      "continent  :  6\n",
      "education_of_employee  :  4\n",
      "has_job_experience  :  2\n",
      "requires_job_training  :  2\n",
      "region_of_employment  :  5\n",
      "unit_of_wage  :  4\n",
      "full_time_position  :  2\n",
      "case_status  :  2\n"
     ]
    }
   ],
   "source": [
    "for feature in cat_feature:\n",
    "  print(feature, \" : \", df[feature].nunique())\n"
   ]
  },
  {
   "cell_type": "markdown",
   "id": "c0ef039a",
   "metadata": {},
   "source": [
    "## Preprocessing using Column Transformer\n"
   ]
  },
  {
   "cell_type": "code",
   "execution_count": null,
   "id": "202c92b1",
   "metadata": {},
   "outputs": [],
   "source": [
    "ord_columns = ['has_job_experience', 'requires_job_training', 'full_time_position', 'education_of_employee']\n",
    "onehot_columns = ['continent', 'unit_of_wage', 'region_of_employment']\n",
    "transform_columns =  transform_features\n"
   ]
  },
  {
   "cell_type": "code",
   "execution_count": null,
   "id": "37092cbb",
   "metadata": {},
   "outputs": [],
   "source": [
    "from sklearn.preprocessing import OneHotEncoder, OrdinalEncoder, PowerTransformer, StandardScaler\n",
    "from sklearn.compose import ColumnTransformer\n",
    "from sklearn.pipeline import Pipeline\n"
   ]
  },
  {
   "cell_type": "code",
   "execution_count": null,
   "id": "f9d42fce",
   "metadata": {},
   "outputs": [],
   "source": [
    "numeric_transfromer = StandardScaler()\n",
    "onehot_transformer = OneHotEncoder()\n",
    "ordinal_transformer = OrdinalEncoder()\n"
   ]
  },
  {
   "cell_type": "code",
   "execution_count": null,
   "id": "fb05291b",
   "metadata": {},
   "outputs": [],
   "source": [
    "transform_pipe = Pipeline(steps=[\n",
    "  (\"transformer\", PowerTransformer(method=\"yeo-johnson\"))\n",
    "])\n"
   ]
  },
  {
   "cell_type": "code",
   "execution_count": null,
   "id": "f80aaf46",
   "metadata": {},
   "outputs": [],
   "source": [
    "preprocessor = ColumnTransformer((\n",
    "  [\n",
    "    (\"OneHotEncoder\", onehot_transformer, onehot_columns),\n",
    "    (\"OrdinalEncoder\", ordinal_transformer, ord_columns),\n",
    "    (\"Transformer\", numeric_transfromer, transform_features)\n",
    "  ]\n",
    "))\n"
   ]
  },
  {
   "cell_type": "code",
   "execution_count": null,
   "id": "072284b2",
   "metadata": {},
   "outputs": [
    {
     "data": {
      "text/plain": [
       "array([[ 0.        ,  1.        ,  0.        , ...,  2.        ,\n",
       "        -0.65122993,  0.38666657],\n",
       "       [ 0.        ,  1.        ,  0.        , ...,  3.        ,\n",
       "        -0.53321103, -0.14228155],\n",
       "       [ 0.        ,  1.        ,  0.        , ...,  0.        ,\n",
       "        -0.6748337 ,  1.69498375],\n",
       "       ...,\n",
       "       [ 0.        ,  1.        ,  0.        , ...,  3.        ,\n",
       "         1.63833662, -0.19871259],\n",
       "       [ 0.        ,  1.        ,  0.        , ...,  3.        ,\n",
       "         2.18122353, -0.16387483],\n",
       "       [ 0.        ,  1.        ,  0.        , ...,  0.        ,\n",
       "         0.45814768, -0.10805575]])"
      ]
     },
     "execution_count": 50,
     "metadata": {},
     "output_type": "execute_result"
    }
   ],
   "source": [
    "X = preprocessor.fit_transform(X)\n",
    "X\n"
   ]
  },
  {
   "cell_type": "markdown",
   "id": "cb5a8732",
   "metadata": {},
   "source": [
    "# Model Training\n"
   ]
  },
  {
   "cell_type": "markdown",
   "id": "1ffab1c5",
   "metadata": {},
   "source": [
    "## Imbalanced Data Solution\n"
   ]
  },
  {
   "cell_type": "code",
   "execution_count": null,
   "id": "de173a35",
   "metadata": {},
   "outputs": [],
   "source": [
    "from imblearn.combine import SMOTEENN, SMOTETomek\n"
   ]
  },
  {
   "cell_type": "code",
   "execution_count": null,
   "id": "ab033aa0",
   "metadata": {},
   "outputs": [],
   "source": [
    "# Resampling to minority class\n",
    "\n",
    "smt = SMOTEENN(random_state=41, sampling_strategy=\"minority\")\n",
    "\n",
    "X_res, y_res = smt.fit_resample(X, y)\n"
   ]
  },
  {
   "cell_type": "markdown",
   "id": "3c4ca8b0",
   "metadata": {},
   "source": [
    "## Train Test Split\n"
   ]
  },
  {
   "cell_type": "code",
   "execution_count": null,
   "id": "bbf0b081",
   "metadata": {},
   "outputs": [],
   "source": [
    "from sklearn.model_selection import train_test_split\n"
   ]
  },
  {
   "cell_type": "code",
   "execution_count": null,
   "id": "1c863410",
   "metadata": {},
   "outputs": [
    {
     "data": {
      "text/plain": [
       "((12589, 21), (3148, 21))"
      ]
     },
     "execution_count": 64,
     "metadata": {},
     "output_type": "execute_result"
    }
   ],
   "source": [
    "X_train, X_test, y_train, y_test = train_test_split(X_res, y_res, test_size=0.2, random_state=41)\n",
    "X_train.shape, X_test.shape\n"
   ]
  },
  {
   "cell_type": "markdown",
   "id": "28ebd8a0",
   "metadata": {},
   "source": [
    "## Model Setup\n"
   ]
  },
  {
   "cell_type": "code",
   "execution_count": 69,
   "id": "12b52709",
   "metadata": {},
   "outputs": [],
   "source": [
    "# Models\n",
    "from sklearn.ensemble import RandomForestClassifier, AdaBoostClassifier, GradientBoostingClassifier\n",
    "from sklearn.linear_model import LogisticRegression\n",
    "from sklearn.neighbors import KNeighborsClassifier\n",
    "from sklearn.tree import DecisionTreeClassifier\n",
    "from sklearn.svm import SVC\n",
    "from xgboost import XGBClassifier\n",
    "from catboost import CatBoostClassifier\n",
    "\n",
    "# Metrics\n",
    "from sklearn.metrics import accuracy_score, classification_report, ConfusionMatrixDisplay, precision_score, recall_score, f1_score, roc_auc_score, roc_curve\n"
   ]
  },
  {
   "cell_type": "code",
   "execution_count": 77,
   "id": "c22831a0",
   "metadata": {},
   "outputs": [],
   "source": [
    "# evaluation metrics\n",
    "def evaluate_clf(true, predicted):\n",
    "  acc = accuracy_score(true, predicted)\n",
    "  f1 = f1_score(true, predicted)\n",
    "  precison = precision_score(true, predicted)\n",
    "  recall = recall_score(true, predicted)\n",
    "  roc_auc = roc_auc_score(true, predicted)\n",
    "  \n",
    "  return acc, f1, precison, recall, roc_auc\n",
    "  "
   ]
  },
  {
   "cell_type": "code",
   "execution_count": null,
   "id": "1121a7e5",
   "metadata": {},
   "outputs": [],
   "source": [
    "# Models\n",
    "models = {\n",
    "  \"Random Forrest\": RandomForestClassifier(),\n",
    "  \"Decision Tree\": DecisionTreeClassifier(),\n",
    "  \"Gradient boosting\": GradientBoostingClassifier(),\n",
    "  \"Logistic Regression\": LogisticRegression(),\n",
    "  \"K-Neighbours Classifier\": KNeighborsClassifier(),\n",
    "  \"XGB Classifier\": XGBClassifier(),\n",
    "  \"CatBoost Classifier\": CatBoostClassifier(verbose=False),\n",
    "  \"Supoort Vector Classifier\": SVC(),\n",
    "  \"AdaBoost Classifier\": AdaBoostClassifier()\n",
    "}\n"
   ]
  },
  {
   "cell_type": "code",
   "execution_count": 97,
   "id": "6a9da8ee",
   "metadata": {},
   "outputs": [],
   "source": [
    "# evaluate models and return report\n",
    "def evaluate_models(X, y, models):\n",
    "  \"\"\" \n",
    "  This function takes in X and y and models dictionary as input\n",
    "  It splits the data into Train and Test split\n",
    "  Iterates through model dictionary and evaluates metrics\n",
    "  Returns: Dataframe which contains a report of all models metrics with cost\n",
    "  \"\"\"\n",
    "  \n",
    "  # separate data into train and test\n",
    "  X_train, X_test, y_train, y_test = train_test_split(X, y, test_size=0.2, random_state=42)\n",
    "  \n",
    "  models_list = []\n",
    "  accuracy_list = []\n",
    "  auc = []\n",
    "  \n",
    "  for i in range(len(list(models))):\n",
    "    # Train Model\n",
    "    model = list(models.values())[i]\n",
    "    model.fit(X_train, y_train)\n",
    "    \n",
    "    # Make Predictions\n",
    "    y_train_pred = model.predict(X_train)\n",
    "    y_test_pred = model.predict(X_test)\n",
    "    \n",
    "    # Training set performance\n",
    "    model_train_accuracy, model_train_f1, model_train_precision, model_train_recall, model_train_rocauc_score = evaluate_clf(y_train, y_train_pred)\n",
    "    \n",
    "    # Test set performance\n",
    "    model_test_accuracy, model_test_f1, model_test_precision, model_test_recall, model_test_rocauc_score = evaluate_clf(y_test, y_test_pred)\n",
    "    \n",
    "    print(list(models.keys())[i])\n",
    "    models_list.append(list(models.keys())[i])\n",
    "    accuracy_list.append(model_test_accuracy)\n",
    "    \n",
    "    print(\"Model performance for Training set\")\n",
    "    print(\"- Accuracy: {:.4f}\".format(model_train_accuracy))\n",
    "    print(\"- F1 Score: {:.4f}\".format(model_train_f1))\n",
    "    print(\"- Precision: {:.4f}\".format(model_train_precision))\n",
    "    print(\"- Recall: {:.4f}\".format(model_train_recall))\n",
    "    print(\"- Roc Auc Score: {:.4f}\".format(model_train_rocauc_score))\n",
    "    \n",
    "    print(\"---------------------------------------------------\")\n",
    "    \n",
    "    print(\"Model performance for Test set\")\n",
    "    print(\"- Accuracy: {:.4f}\".format(model_test_accuracy))\n",
    "    print(\"- F1 Score: {:.4f}\".format(model_test_f1))\n",
    "    print(\"- Precision: {:.4f}\".format(model_test_precision))\n",
    "    print(\"- Recall: {:.4f}\".format(model_test_recall))\n",
    "    print(\"- Roc Auc Score: {:.4f}\".format(model_test_rocauc_score))\n",
    "    \n",
    "    print(\"===================================================\")\n",
    "    \n",
    "  report = pd.DataFrame(list(zip(models_list, accuracy_list)), columns=[\"Model Name\", \"Accuracy\"]).sort_values(by=\"Accuracy\", ascending=False)\n",
    "    \n",
    "  return report\n"
   ]
  },
  {
   "cell_type": "markdown",
   "id": "e1d71a57",
   "metadata": {},
   "source": [
    "## Model Training\n"
   ]
  },
  {
   "cell_type": "code",
   "execution_count": null,
   "id": "80215beb",
   "metadata": {},
   "outputs": [
    {
     "name": "stdout",
     "output_type": "stream",
     "text": [
      "Random Forrest\n",
      "Model performance for Training set\n",
      "- Accuracy: 1.0000\n",
      "- F1 Score: 1.0000\n",
      "- Precision: 1.0000\n",
      "- Recall: 1.0000\n",
      "- Roc Auc Score: 1.0000\n",
      "---------------------------------------------------\n",
      "Model performance for Test set\n",
      "- Accuracy: 0.9654\n",
      "- F1 Score: 0.9669\n",
      "- Precision: 0.9637\n",
      "- Recall: 0.9702\n",
      "- Roc Auc Score: 0.9652\n",
      "===================================================\n",
      "Decision Tree\n",
      "Model performance for Training set\n",
      "- Accuracy: 1.0000\n",
      "- F1 Score: 1.0000\n",
      "- Precision: 1.0000\n",
      "- Recall: 1.0000\n",
      "- Roc Auc Score: 1.0000\n",
      "---------------------------------------------------\n",
      "Model performance for Test set\n",
      "- Accuracy: 0.9470\n",
      "- F1 Score: 0.9490\n",
      "- Precision: 0.9517\n",
      "- Recall: 0.9464\n",
      "- Roc Auc Score: 0.9470\n",
      "===================================================\n",
      "Gradient boosting\n",
      "Model performance for Training set\n",
      "- Accuracy: 0.9026\n",
      "- F1 Score: 0.9039\n",
      "- Precision: 0.9220\n",
      "- Recall: 0.8865\n",
      "- Roc Auc Score: 0.9032\n",
      "---------------------------------------------------\n",
      "Model performance for Test set\n",
      "- Accuracy: 0.8961\n",
      "- F1 Score: 0.8988\n",
      "- Precision: 0.9144\n",
      "- Recall: 0.8837\n",
      "- Roc Auc Score: 0.8967\n",
      "===================================================\n",
      "Logistic Regression\n",
      "Model performance for Training set\n",
      "- Accuracy: 0.7410\n",
      "- F1 Score: 0.7407\n",
      "- Precision: 0.7672\n",
      "- Recall: 0.7160\n",
      "- Roc Auc Score: 0.7419\n",
      "---------------------------------------------------\n",
      "Model performance for Test set\n",
      "- Accuracy: 0.7449\n",
      "- F1 Score: 0.7466\n",
      "- Precision: 0.7752\n",
      "- Recall: 0.7200\n",
      "- Roc Auc Score: 0.7461\n",
      "===================================================\n",
      "K-Neighbours Classifier\n",
      "Model performance for Training set\n",
      "- Accuracy: 0.9665\n",
      "- F1 Score: 0.9676\n",
      "- Precision: 0.9661\n",
      "- Recall: 0.9691\n",
      "- Roc Auc Score: 0.9664\n",
      "---------------------------------------------------\n",
      "Model performance for Test set\n",
      "- Accuracy: 0.9384\n",
      "- F1 Score: 0.9414\n",
      "- Precision: 0.9346\n",
      "- Recall: 0.9483\n",
      "- Roc Auc Score: 0.9379\n",
      "===================================================\n",
      "XGB Classifier\n",
      "Model performance for Training set\n",
      "- Accuracy: 0.9816\n",
      "- F1 Score: 0.9821\n",
      "- Precision: 0.9835\n",
      "- Recall: 0.9808\n",
      "- Roc Auc Score: 0.9816\n",
      "---------------------------------------------------\n",
      "Model performance for Test set\n",
      "- Accuracy: 0.9416\n",
      "- F1 Score: 0.9439\n",
      "- Precision: 0.9462\n",
      "- Recall: 0.9416\n",
      "- Roc Auc Score: 0.9415\n",
      "===================================================\n",
      "CatBoost Classifier\n",
      "Model performance for Training set\n",
      "- Accuracy: 0.9565\n",
      "- F1 Score: 0.9575\n",
      "- Precision: 0.9669\n",
      "- Recall: 0.9482\n",
      "- Roc Auc Score: 0.9568\n",
      "---------------------------------------------------\n",
      "Model performance for Test set\n",
      "- Accuracy: 0.9339\n",
      "- F1 Score: 0.9361\n",
      "- Precision: 0.9454\n",
      "- Recall: 0.9270\n",
      "- Roc Auc Score: 0.9342\n",
      "===================================================\n",
      "Supoort Vector Classifier\n",
      "Model performance for Training set\n",
      "- Accuracy: 0.8980\n",
      "- F1 Score: 0.8986\n",
      "- Precision: 0.9237\n",
      "- Recall: 0.8748\n",
      "- Roc Auc Score: 0.8988\n",
      "---------------------------------------------------\n",
      "Model performance for Test set\n",
      "- Accuracy: 0.8907\n",
      "- F1 Score: 0.8926\n",
      "- Precision: 0.9161\n",
      "- Recall: 0.8704\n",
      "- Roc Auc Score: 0.8917\n",
      "===================================================\n",
      "AdaBoost Classifier\n",
      "Model performance for Training set\n",
      "- Accuracy: 0.8729\n",
      "- F1 Score: 0.8753\n",
      "- Precision: 0.8872\n",
      "- Recall: 0.8638\n",
      "- Roc Auc Score: 0.8732\n",
      "---------------------------------------------------\n",
      "Model performance for Test set\n",
      "- Accuracy: 0.8704\n",
      "- F1 Score: 0.8734\n",
      "- Precision: 0.8906\n",
      "- Recall: 0.8570\n",
      "- Roc Auc Score: 0.8710\n",
      "===================================================\n"
     ]
    }
   ],
   "source": [
    "base_model_report = evaluate_models(X=X_res, y=y_res, models=models)\n"
   ]
  },
  {
   "cell_type": "markdown",
   "id": "ec526fb1",
   "metadata": {},
   "source": [
    "**Results of All Models**\n"
   ]
  },
  {
   "cell_type": "code",
   "execution_count": null,
   "id": "10f78483",
   "metadata": {},
   "outputs": [
    {
     "data": {
      "application/vnd.microsoft.datawrangler.viewer.v0+json": {
       "columns": [
        {
         "name": "index",
         "rawType": "int64",
         "type": "integer"
        },
        {
         "name": "Model Name",
         "rawType": "object",
         "type": "string"
        },
        {
         "name": "Accuracy",
         "rawType": "float64",
         "type": "float"
        }
       ],
       "ref": "f8683924-9f8e-4f8f-8b75-9232c0ddfca7",
       "rows": [
        [
         "0",
         "Random Forrest",
         "0.9653748411689962"
        ],
        [
         "1",
         "Decision Tree",
         "0.9469504447268107"
        ],
        [
         "5",
         "XGB Classifier",
         "0.9415501905972046"
        ],
        [
         "4",
         "K-Neighbours Classifier",
         "0.9383735705209657"
        ],
        [
         "6",
         "CatBoost Classifier",
         "0.9339263024142312"
        ],
        [
         "2",
         "Gradient boosting",
         "0.8961245235069886"
        ],
        [
         "7",
         "Supoort Vector Classifier",
         "0.8907242693773825"
        ],
        [
         "8",
         "AdaBoost Classifier",
         "0.8703939008894537"
        ],
        [
         "3",
         "Logistic Regression",
         "0.7449174078780177"
        ]
       ],
       "shape": {
        "columns": 2,
        "rows": 9
       }
      },
      "text/html": [
       "<div>\n",
       "<style scoped>\n",
       "    .dataframe tbody tr th:only-of-type {\n",
       "        vertical-align: middle;\n",
       "    }\n",
       "\n",
       "    .dataframe tbody tr th {\n",
       "        vertical-align: top;\n",
       "    }\n",
       "\n",
       "    .dataframe thead th {\n",
       "        text-align: right;\n",
       "    }\n",
       "</style>\n",
       "<table border=\"1\" class=\"dataframe\">\n",
       "  <thead>\n",
       "    <tr style=\"text-align: right;\">\n",
       "      <th></th>\n",
       "      <th>Model Name</th>\n",
       "      <th>Accuracy</th>\n",
       "    </tr>\n",
       "  </thead>\n",
       "  <tbody>\n",
       "    <tr>\n",
       "      <th>0</th>\n",
       "      <td>Random Forrest</td>\n",
       "      <td>0.965375</td>\n",
       "    </tr>\n",
       "    <tr>\n",
       "      <th>1</th>\n",
       "      <td>Decision Tree</td>\n",
       "      <td>0.946950</td>\n",
       "    </tr>\n",
       "    <tr>\n",
       "      <th>5</th>\n",
       "      <td>XGB Classifier</td>\n",
       "      <td>0.941550</td>\n",
       "    </tr>\n",
       "    <tr>\n",
       "      <th>4</th>\n",
       "      <td>K-Neighbours Classifier</td>\n",
       "      <td>0.938374</td>\n",
       "    </tr>\n",
       "    <tr>\n",
       "      <th>6</th>\n",
       "      <td>CatBoost Classifier</td>\n",
       "      <td>0.933926</td>\n",
       "    </tr>\n",
       "    <tr>\n",
       "      <th>2</th>\n",
       "      <td>Gradient boosting</td>\n",
       "      <td>0.896125</td>\n",
       "    </tr>\n",
       "    <tr>\n",
       "      <th>7</th>\n",
       "      <td>Supoort Vector Classifier</td>\n",
       "      <td>0.890724</td>\n",
       "    </tr>\n",
       "    <tr>\n",
       "      <th>8</th>\n",
       "      <td>AdaBoost Classifier</td>\n",
       "      <td>0.870394</td>\n",
       "    </tr>\n",
       "    <tr>\n",
       "      <th>3</th>\n",
       "      <td>Logistic Regression</td>\n",
       "      <td>0.744917</td>\n",
       "    </tr>\n",
       "  </tbody>\n",
       "</table>\n",
       "</div>"
      ],
      "text/plain": [
       "                  Model Name  Accuracy\n",
       "0             Random Forrest  0.965375\n",
       "1              Decision Tree  0.946950\n",
       "5             XGB Classifier  0.941550\n",
       "4    K-Neighbours Classifier  0.938374\n",
       "6        CatBoost Classifier  0.933926\n",
       "2          Gradient boosting  0.896125\n",
       "7  Supoort Vector Classifier  0.890724\n",
       "8        AdaBoost Classifier  0.870394\n",
       "3        Logistic Regression  0.744917"
      ]
     },
     "execution_count": 99,
     "metadata": {},
     "output_type": "execute_result"
    }
   ],
   "source": [
    "base_model_report\n"
   ]
  },
  {
   "cell_type": "markdown",
   "id": "46a4eee8",
   "metadata": {},
   "source": [
    "## Hyperparameter Tuning for Top 3 Models\n"
   ]
  },
  {
   "cell_type": "markdown",
   "id": "ae9fe66a",
   "metadata": {},
   "source": [
    "**Define parameter distribution**\n"
   ]
  },
  {
   "cell_type": "code",
   "execution_count": null,
   "id": "703940ec",
   "metadata": {},
   "outputs": [],
   "source": [
    "xgboost_params = {\n",
    "  \"max-depth\": range(3, 10, 2),\n",
    "  \"min_child_weight\": range(1, 6, 2)\n",
    "}\n",
    "\n",
    "randforest_params = {\n",
    "  \"max_depth\": [10, 12, None, 15, 20],\n",
    "  \"max_features\": [\"sqrt\", \"log2\", None],\n",
    "  \"n_estimators\": [10, 50, 100, 200]\n",
    "}\n",
    "\n",
    "knn_params = {\n",
    "  \"algorithm\": [\"auto\", \"ball_tree\", \"kd_tree\", \"brute\"],\n",
    "  \"weights\": [\"uniform\", \"distance\"],\n",
    "  \"n_neighbors\": [3, 4, 5, 7, 9]\n",
    "}\n"
   ]
  },
  {
   "cell_type": "code",
   "execution_count": null,
   "id": "ccde1e2e",
   "metadata": {},
   "outputs": [],
   "source": [
    "# Model List\n",
    "randomcv_models = [\n",
    "  (\"Random Forrest\", RandomForestClassifier(), randforest_params),\n",
    "  (\"K-Neighbours Classifier\", KNeighborsClassifier(), knn_params),\n",
    "  (\"XGB Classifier\", XGBClassifier(), xgboost_params)\n",
    "]\n"
   ]
  },
  {
   "cell_type": "markdown",
   "id": "6c0abaaa",
   "metadata": {},
   "source": [
    "**Create a function for model training and report which can be used in hyperparameter tuning loop**\n"
   ]
  },
  {
   "cell_type": "code",
   "execution_count": null,
   "id": "54c730d8",
   "metadata": {},
   "outputs": [],
   "source": [
    "from sklearn.model_selection import RandomizedSearchCV\n"
   ]
  },
  {
   "cell_type": "code",
   "execution_count": null,
   "id": "49bcd356",
   "metadata": {},
   "outputs": [
    {
     "name": "stdout",
     "output_type": "stream",
     "text": [
      "Fitting 3 folds for each of 60 candidates, totalling 180 fits\n",
      "[CV] END ...max_depth=10, max_features=sqrt, n_estimators=10; total time=   0.1s\n",
      "[CV] END ...max_depth=10, max_features=sqrt, n_estimators=10; total time=   0.0s\n",
      "[CV] END ...max_depth=10, max_features=sqrt, n_estimators=10; total time=   0.0s\n",
      "[CV] END ...max_depth=10, max_features=sqrt, n_estimators=50; total time=   0.2s\n",
      "[CV] END ...max_depth=10, max_features=sqrt, n_estimators=50; total time=   0.2s\n",
      "[CV] END ...max_depth=10, max_features=sqrt, n_estimators=50; total time=   0.2s\n",
      "[CV] END ..max_depth=10, max_features=sqrt, n_estimators=100; total time=   0.4s\n",
      "[CV] END ..max_depth=10, max_features=sqrt, n_estimators=100; total time=   0.4s\n",
      "[CV] END ..max_depth=10, max_features=sqrt, n_estimators=100; total time=   0.4s\n",
      "[CV] END ..max_depth=10, max_features=sqrt, n_estimators=200; total time=   0.9s\n",
      "[CV] END ..max_depth=10, max_features=sqrt, n_estimators=200; total time=   0.8s\n",
      "[CV] END ..max_depth=10, max_features=sqrt, n_estimators=200; total time=   0.8s\n",
      "[CV] END ...max_depth=10, max_features=log2, n_estimators=10; total time=   0.0s\n",
      "[CV] END ...max_depth=10, max_features=log2, n_estimators=10; total time=   0.0s\n",
      "[CV] END ...max_depth=10, max_features=log2, n_estimators=10; total time=   0.0s\n",
      "[CV] END ...max_depth=10, max_features=log2, n_estimators=50; total time=   0.2s\n",
      "[CV] END ...max_depth=10, max_features=log2, n_estimators=50; total time=   0.2s\n",
      "[CV] END ...max_depth=10, max_features=log2, n_estimators=50; total time=   0.2s\n",
      "[CV] END ..max_depth=10, max_features=log2, n_estimators=100; total time=   0.4s\n",
      "[CV] END ..max_depth=10, max_features=log2, n_estimators=100; total time=   0.4s\n",
      "[CV] END ..max_depth=10, max_features=log2, n_estimators=100; total time=   0.4s\n",
      "[CV] END ..max_depth=10, max_features=log2, n_estimators=200; total time=   0.8s\n",
      "[CV] END ..max_depth=10, max_features=log2, n_estimators=200; total time=   0.8s\n",
      "[CV] END ..max_depth=10, max_features=log2, n_estimators=200; total time=   0.8s\n",
      "[CV] END ...max_depth=10, max_features=None, n_estimators=10; total time=   0.1s\n",
      "[CV] END ...max_depth=10, max_features=None, n_estimators=10; total time=   0.1s\n",
      "[CV] END ...max_depth=10, max_features=None, n_estimators=10; total time=   0.1s\n",
      "[CV] END ...max_depth=10, max_features=None, n_estimators=50; total time=   0.7s\n",
      "[CV] END ...max_depth=10, max_features=None, n_estimators=50; total time=   0.7s\n",
      "[CV] END ...max_depth=10, max_features=None, n_estimators=50; total time=   0.6s\n",
      "[CV] END ..max_depth=10, max_features=None, n_estimators=100; total time=   1.4s\n",
      "[CV] END ..max_depth=10, max_features=None, n_estimators=100; total time=   1.3s\n",
      "[CV] END ..max_depth=10, max_features=None, n_estimators=100; total time=   1.4s\n",
      "[CV] END ..max_depth=10, max_features=None, n_estimators=200; total time=   2.7s\n",
      "[CV] END ..max_depth=10, max_features=None, n_estimators=200; total time=   2.6s\n",
      "[CV] END ..max_depth=10, max_features=None, n_estimators=200; total time=   2.5s\n",
      "[CV] END ...max_depth=12, max_features=sqrt, n_estimators=10; total time=   0.0s\n",
      "[CV] END ...max_depth=12, max_features=sqrt, n_estimators=10; total time=   0.0s\n",
      "[CV] END ...max_depth=12, max_features=sqrt, n_estimators=10; total time=   0.0s\n",
      "[CV] END ...max_depth=12, max_features=sqrt, n_estimators=50; total time=   0.2s\n",
      "[CV] END ...max_depth=12, max_features=sqrt, n_estimators=50; total time=   0.2s\n",
      "[CV] END ...max_depth=12, max_features=sqrt, n_estimators=50; total time=   0.2s\n",
      "[CV] END ..max_depth=12, max_features=sqrt, n_estimators=100; total time=   0.4s\n",
      "[CV] END ..max_depth=12, max_features=sqrt, n_estimators=100; total time=   0.5s\n",
      "[CV] END ..max_depth=12, max_features=sqrt, n_estimators=100; total time=   0.5s\n",
      "[CV] END ..max_depth=12, max_features=sqrt, n_estimators=200; total time=   0.9s\n",
      "[CV] END ..max_depth=12, max_features=sqrt, n_estimators=200; total time=   0.9s\n",
      "[CV] END ..max_depth=12, max_features=sqrt, n_estimators=200; total time=   0.9s\n",
      "[CV] END ...max_depth=12, max_features=log2, n_estimators=10; total time=   0.1s\n",
      "[CV] END ...max_depth=12, max_features=log2, n_estimators=10; total time=   0.0s\n",
      "[CV] END ...max_depth=12, max_features=log2, n_estimators=10; total time=   0.0s\n",
      "[CV] END ...max_depth=12, max_features=log2, n_estimators=50; total time=   0.2s\n",
      "[CV] END ...max_depth=12, max_features=log2, n_estimators=50; total time=   0.2s\n",
      "[CV] END ...max_depth=12, max_features=log2, n_estimators=50; total time=   0.2s\n",
      "[CV] END ..max_depth=12, max_features=log2, n_estimators=100; total time=   0.5s\n",
      "[CV] END ..max_depth=12, max_features=log2, n_estimators=100; total time=   0.4s\n",
      "[CV] END ..max_depth=12, max_features=log2, n_estimators=100; total time=   0.4s\n",
      "[CV] END ..max_depth=12, max_features=log2, n_estimators=200; total time=   0.9s\n",
      "[CV] END ..max_depth=12, max_features=log2, n_estimators=200; total time=   0.9s\n",
      "[CV] END ..max_depth=12, max_features=log2, n_estimators=200; total time=   0.9s\n",
      "[CV] END ...max_depth=12, max_features=None, n_estimators=10; total time=   0.1s\n",
      "[CV] END ...max_depth=12, max_features=None, n_estimators=10; total time=   0.1s\n",
      "[CV] END ...max_depth=12, max_features=None, n_estimators=10; total time=   0.1s\n",
      "[CV] END ...max_depth=12, max_features=None, n_estimators=50; total time=   0.7s\n",
      "[CV] END ...max_depth=12, max_features=None, n_estimators=50; total time=   0.7s\n",
      "[CV] END ...max_depth=12, max_features=None, n_estimators=50; total time=   0.7s\n",
      "[CV] END ..max_depth=12, max_features=None, n_estimators=100; total time=   1.4s\n",
      "[CV] END ..max_depth=12, max_features=None, n_estimators=100; total time=   1.4s\n",
      "[CV] END ..max_depth=12, max_features=None, n_estimators=100; total time=   1.3s\n",
      "[CV] END ..max_depth=12, max_features=None, n_estimators=200; total time=   2.9s\n",
      "[CV] END ..max_depth=12, max_features=None, n_estimators=200; total time=   2.8s\n",
      "[CV] END ..max_depth=12, max_features=None, n_estimators=200; total time=   2.7s\n",
      "[CV] END .max_depth=None, max_features=sqrt, n_estimators=10; total time=   0.1s\n",
      "[CV] END .max_depth=None, max_features=sqrt, n_estimators=10; total time=   0.1s\n",
      "[CV] END .max_depth=None, max_features=sqrt, n_estimators=10; total time=   0.1s\n",
      "[CV] END .max_depth=None, max_features=sqrt, n_estimators=50; total time=   0.3s\n",
      "[CV] END .max_depth=None, max_features=sqrt, n_estimators=50; total time=   0.3s\n",
      "[CV] END .max_depth=None, max_features=sqrt, n_estimators=50; total time=   0.3s\n",
      "[CV] END max_depth=None, max_features=sqrt, n_estimators=100; total time=   0.6s\n",
      "[CV] END max_depth=None, max_features=sqrt, n_estimators=100; total time=   0.6s\n",
      "[CV] END max_depth=None, max_features=sqrt, n_estimators=100; total time=   0.5s\n",
      "[CV] END max_depth=None, max_features=sqrt, n_estimators=200; total time=   1.2s\n",
      "[CV] END max_depth=None, max_features=sqrt, n_estimators=200; total time=   1.1s\n",
      "[CV] END max_depth=None, max_features=sqrt, n_estimators=200; total time=   1.1s\n",
      "[CV] END .max_depth=None, max_features=log2, n_estimators=10; total time=   0.1s\n",
      "[CV] END .max_depth=None, max_features=log2, n_estimators=10; total time=   0.1s\n",
      "[CV] END .max_depth=None, max_features=log2, n_estimators=10; total time=   0.1s\n",
      "[CV] END .max_depth=None, max_features=log2, n_estimators=50; total time=   0.3s\n",
      "[CV] END .max_depth=None, max_features=log2, n_estimators=50; total time=   0.3s\n",
      "[CV] END .max_depth=None, max_features=log2, n_estimators=50; total time=   0.3s\n",
      "[CV] END max_depth=None, max_features=log2, n_estimators=100; total time=   0.6s\n",
      "[CV] END max_depth=None, max_features=log2, n_estimators=100; total time=   0.6s\n",
      "[CV] END max_depth=None, max_features=log2, n_estimators=100; total time=   0.5s\n",
      "[CV] END max_depth=None, max_features=log2, n_estimators=200; total time=   1.1s\n",
      "[CV] END max_depth=None, max_features=log2, n_estimators=200; total time=   1.1s\n",
      "[CV] END max_depth=None, max_features=log2, n_estimators=200; total time=   1.0s\n",
      "[CV] END .max_depth=None, max_features=None, n_estimators=10; total time=   0.2s\n",
      "[CV] END .max_depth=None, max_features=None, n_estimators=10; total time=   0.2s\n",
      "[CV] END .max_depth=None, max_features=None, n_estimators=10; total time=   0.1s\n",
      "[CV] END .max_depth=None, max_features=None, n_estimators=50; total time=   0.8s\n",
      "[CV] END .max_depth=None, max_features=None, n_estimators=50; total time=   0.8s\n",
      "[CV] END .max_depth=None, max_features=None, n_estimators=50; total time=   0.8s\n",
      "[CV] END max_depth=None, max_features=None, n_estimators=100; total time=   1.6s\n",
      "[CV] END max_depth=None, max_features=None, n_estimators=100; total time=   1.5s\n",
      "[CV] END max_depth=None, max_features=None, n_estimators=100; total time=   1.4s\n",
      "[CV] END max_depth=None, max_features=None, n_estimators=200; total time=   3.2s\n",
      "[CV] END max_depth=None, max_features=None, n_estimators=200; total time=   3.0s\n",
      "[CV] END max_depth=None, max_features=None, n_estimators=200; total time=   2.9s\n",
      "[CV] END ...max_depth=15, max_features=sqrt, n_estimators=10; total time=   0.1s\n",
      "[CV] END ...max_depth=15, max_features=sqrt, n_estimators=10; total time=   0.1s\n",
      "[CV] END ...max_depth=15, max_features=sqrt, n_estimators=10; total time=   0.1s\n",
      "[CV] END ...max_depth=15, max_features=sqrt, n_estimators=50; total time=   0.3s\n",
      "[CV] END ...max_depth=15, max_features=sqrt, n_estimators=50; total time=   0.2s\n",
      "[CV] END ...max_depth=15, max_features=sqrt, n_estimators=50; total time=   0.2s\n",
      "[CV] END ..max_depth=15, max_features=sqrt, n_estimators=100; total time=   0.5s\n",
      "[CV] END ..max_depth=15, max_features=sqrt, n_estimators=100; total time=   0.5s\n",
      "[CV] END ..max_depth=15, max_features=sqrt, n_estimators=100; total time=   0.5s\n",
      "[CV] END ..max_depth=15, max_features=sqrt, n_estimators=200; total time=   1.0s\n",
      "[CV] END ..max_depth=15, max_features=sqrt, n_estimators=200; total time=   1.0s\n",
      "[CV] END ..max_depth=15, max_features=sqrt, n_estimators=200; total time=   1.0s\n",
      "[CV] END ...max_depth=15, max_features=log2, n_estimators=10; total time=   0.1s\n",
      "[CV] END ...max_depth=15, max_features=log2, n_estimators=10; total time=   0.1s\n",
      "[CV] END ...max_depth=15, max_features=log2, n_estimators=10; total time=   0.0s\n",
      "[CV] END ...max_depth=15, max_features=log2, n_estimators=50; total time=   0.3s\n",
      "[CV] END ...max_depth=15, max_features=log2, n_estimators=50; total time=   0.3s\n",
      "[CV] END ...max_depth=15, max_features=log2, n_estimators=50; total time=   0.2s\n",
      "[CV] END ..max_depth=15, max_features=log2, n_estimators=100; total time=   0.5s\n",
      "[CV] END ..max_depth=15, max_features=log2, n_estimators=100; total time=   0.5s\n",
      "[CV] END ..max_depth=15, max_features=log2, n_estimators=100; total time=   0.5s\n",
      "[CV] END ..max_depth=15, max_features=log2, n_estimators=200; total time=   1.2s\n",
      "[CV] END ..max_depth=15, max_features=log2, n_estimators=200; total time=   1.0s\n",
      "[CV] END ..max_depth=15, max_features=log2, n_estimators=200; total time=   1.1s\n",
      "[CV] END ...max_depth=15, max_features=None, n_estimators=10; total time=   0.2s\n",
      "[CV] END ...max_depth=15, max_features=None, n_estimators=10; total time=   0.2s\n",
      "[CV] END ...max_depth=15, max_features=None, n_estimators=10; total time=   0.1s\n",
      "[CV] END ...max_depth=15, max_features=None, n_estimators=50; total time=   0.8s\n",
      "[CV] END ...max_depth=15, max_features=None, n_estimators=50; total time=   0.8s\n",
      "[CV] END ...max_depth=15, max_features=None, n_estimators=50; total time=   0.7s\n",
      "[CV] END ..max_depth=15, max_features=None, n_estimators=100; total time=   1.6s\n",
      "[CV] END ..max_depth=15, max_features=None, n_estimators=100; total time=   1.4s\n",
      "[CV] END ..max_depth=15, max_features=None, n_estimators=100; total time=   1.4s\n",
      "[CV] END ..max_depth=15, max_features=None, n_estimators=200; total time=   3.1s\n",
      "[CV] END ..max_depth=15, max_features=None, n_estimators=200; total time=   3.0s\n",
      "[CV] END ..max_depth=15, max_features=None, n_estimators=200; total time=   2.9s\n",
      "[CV] END ...max_depth=20, max_features=sqrt, n_estimators=10; total time=   0.1s\n",
      "[CV] END ...max_depth=20, max_features=sqrt, n_estimators=10; total time=   0.1s\n",
      "[CV] END ...max_depth=20, max_features=sqrt, n_estimators=10; total time=   0.0s\n",
      "[CV] END ...max_depth=20, max_features=sqrt, n_estimators=50; total time=   0.3s\n",
      "[CV] END ...max_depth=20, max_features=sqrt, n_estimators=50; total time=   0.3s\n",
      "[CV] END ...max_depth=20, max_features=sqrt, n_estimators=50; total time=   0.3s\n",
      "[CV] END ..max_depth=20, max_features=sqrt, n_estimators=100; total time=   0.5s\n",
      "[CV] END ..max_depth=20, max_features=sqrt, n_estimators=100; total time=   0.5s\n",
      "[CV] END ..max_depth=20, max_features=sqrt, n_estimators=100; total time=   0.5s\n",
      "[CV] END ..max_depth=20, max_features=sqrt, n_estimators=200; total time=   1.1s\n",
      "[CV] END ..max_depth=20, max_features=sqrt, n_estimators=200; total time=   1.1s\n",
      "[CV] END ..max_depth=20, max_features=sqrt, n_estimators=200; total time=   1.0s\n",
      "[CV] END ...max_depth=20, max_features=log2, n_estimators=10; total time=   0.1s\n",
      "[CV] END ...max_depth=20, max_features=log2, n_estimators=10; total time=   0.1s\n",
      "[CV] END ...max_depth=20, max_features=log2, n_estimators=10; total time=   0.1s\n",
      "[CV] END ...max_depth=20, max_features=log2, n_estimators=50; total time=   0.3s\n",
      "[CV] END ...max_depth=20, max_features=log2, n_estimators=50; total time=   0.3s\n",
      "[CV] END ...max_depth=20, max_features=log2, n_estimators=50; total time=   0.3s\n",
      "[CV] END ..max_depth=20, max_features=log2, n_estimators=100; total time=   0.5s\n",
      "[CV] END ..max_depth=20, max_features=log2, n_estimators=100; total time=   0.5s\n",
      "[CV] END ..max_depth=20, max_features=log2, n_estimators=100; total time=   0.5s\n",
      "[CV] END ..max_depth=20, max_features=log2, n_estimators=200; total time=   1.2s\n",
      "[CV] END ..max_depth=20, max_features=log2, n_estimators=200; total time=   1.0s\n",
      "[CV] END ..max_depth=20, max_features=log2, n_estimators=200; total time=   1.0s\n",
      "[CV] END ...max_depth=20, max_features=None, n_estimators=10; total time=   0.2s\n",
      "[CV] END ...max_depth=20, max_features=None, n_estimators=10; total time=   0.2s\n",
      "[CV] END ...max_depth=20, max_features=None, n_estimators=10; total time=   0.1s\n",
      "[CV] END ...max_depth=20, max_features=None, n_estimators=50; total time=   0.8s\n",
      "[CV] END ...max_depth=20, max_features=None, n_estimators=50; total time=   0.8s\n",
      "[CV] END ...max_depth=20, max_features=None, n_estimators=50; total time=   0.7s\n",
      "[CV] END ..max_depth=20, max_features=None, n_estimators=100; total time=   1.6s\n",
      "[CV] END ..max_depth=20, max_features=None, n_estimators=100; total time=   1.5s\n",
      "[CV] END ..max_depth=20, max_features=None, n_estimators=100; total time=   1.5s\n",
      "[CV] END ..max_depth=20, max_features=None, n_estimators=200; total time=   3.1s\n",
      "[CV] END ..max_depth=20, max_features=None, n_estimators=200; total time=   3.0s\n",
      "[CV] END ..max_depth=20, max_features=None, n_estimators=200; total time=   3.0s\n",
      "Fitting 3 folds for each of 40 candidates, totalling 120 fits\n",
      "[CV] END .....algorithm=auto, n_neighbors=3, weights=uniform; total time=   0.0s\n",
      "[CV] END .....algorithm=auto, n_neighbors=3, weights=uniform; total time=   0.0s\n",
      "[CV] END .....algorithm=auto, n_neighbors=3, weights=uniform; total time=   0.0s\n",
      "[CV] END ....algorithm=auto, n_neighbors=3, weights=distance; total time=   0.0s\n",
      "[CV] END ....algorithm=auto, n_neighbors=3, weights=distance; total time=   0.0s\n",
      "[CV] END ....algorithm=auto, n_neighbors=3, weights=distance; total time=   0.0s\n",
      "[CV] END .....algorithm=auto, n_neighbors=4, weights=uniform; total time=   0.0s\n",
      "[CV] END .....algorithm=auto, n_neighbors=4, weights=uniform; total time=   0.1s\n",
      "[CV] END .....algorithm=auto, n_neighbors=4, weights=uniform; total time=   0.0s\n",
      "[CV] END ....algorithm=auto, n_neighbors=4, weights=distance; total time=   0.1s\n",
      "[CV] END ....algorithm=auto, n_neighbors=4, weights=distance; total time=   0.0s\n",
      "[CV] END ....algorithm=auto, n_neighbors=4, weights=distance; total time=   0.0s\n",
      "[CV] END .....algorithm=auto, n_neighbors=5, weights=uniform; total time=   0.0s\n",
      "[CV] END .....algorithm=auto, n_neighbors=5, weights=uniform; total time=   0.0s\n",
      "[CV] END .....algorithm=auto, n_neighbors=5, weights=uniform; total time=   0.0s\n",
      "[CV] END ....algorithm=auto, n_neighbors=5, weights=distance; total time=   0.0s\n",
      "[CV] END ....algorithm=auto, n_neighbors=5, weights=distance; total time=   0.0s\n",
      "[CV] END ....algorithm=auto, n_neighbors=5, weights=distance; total time=   0.0s\n",
      "[CV] END .....algorithm=auto, n_neighbors=7, weights=uniform; total time=   0.0s\n",
      "[CV] END .....algorithm=auto, n_neighbors=7, weights=uniform; total time=   0.0s\n",
      "[CV] END .....algorithm=auto, n_neighbors=7, weights=uniform; total time=   0.1s\n",
      "[CV] END ....algorithm=auto, n_neighbors=7, weights=distance; total time=   0.0s\n",
      "[CV] END ....algorithm=auto, n_neighbors=7, weights=distance; total time=   0.0s\n",
      "[CV] END ....algorithm=auto, n_neighbors=7, weights=distance; total time=   0.1s\n",
      "[CV] END .....algorithm=auto, n_neighbors=9, weights=uniform; total time=   0.1s\n",
      "[CV] END .....algorithm=auto, n_neighbors=9, weights=uniform; total time=   0.0s\n",
      "[CV] END .....algorithm=auto, n_neighbors=9, weights=uniform; total time=   0.0s\n",
      "[CV] END ....algorithm=auto, n_neighbors=9, weights=distance; total time=   0.0s\n",
      "[CV] END ....algorithm=auto, n_neighbors=9, weights=distance; total time=   0.1s\n",
      "[CV] END ....algorithm=auto, n_neighbors=9, weights=distance; total time=   0.1s\n",
      "[CV] END algorithm=ball_tree, n_neighbors=3, weights=uniform; total time=   0.3s\n",
      "[CV] END algorithm=ball_tree, n_neighbors=3, weights=uniform; total time=   0.3s\n",
      "[CV] END algorithm=ball_tree, n_neighbors=3, weights=uniform; total time=   0.3s\n",
      "[CV] END algorithm=ball_tree, n_neighbors=3, weights=distance; total time=   0.3s\n",
      "[CV] END algorithm=ball_tree, n_neighbors=3, weights=distance; total time=   0.3s\n",
      "[CV] END algorithm=ball_tree, n_neighbors=3, weights=distance; total time=   0.3s\n",
      "[CV] END algorithm=ball_tree, n_neighbors=4, weights=uniform; total time=   0.3s\n",
      "[CV] END algorithm=ball_tree, n_neighbors=4, weights=uniform; total time=   0.3s\n",
      "[CV] END algorithm=ball_tree, n_neighbors=4, weights=uniform; total time=   0.3s\n",
      "[CV] END algorithm=ball_tree, n_neighbors=4, weights=distance; total time=   0.3s\n",
      "[CV] END algorithm=ball_tree, n_neighbors=4, weights=distance; total time=   0.3s\n",
      "[CV] END algorithm=ball_tree, n_neighbors=4, weights=distance; total time=   0.3s\n",
      "[CV] END algorithm=ball_tree, n_neighbors=5, weights=uniform; total time=   0.3s\n",
      "[CV] END algorithm=ball_tree, n_neighbors=5, weights=uniform; total time=   0.3s\n",
      "[CV] END algorithm=ball_tree, n_neighbors=5, weights=uniform; total time=   0.3s\n",
      "[CV] END algorithm=ball_tree, n_neighbors=5, weights=distance; total time=   0.3s\n",
      "[CV] END algorithm=ball_tree, n_neighbors=5, weights=distance; total time=   0.3s\n",
      "[CV] END algorithm=ball_tree, n_neighbors=5, weights=distance; total time=   0.3s\n",
      "[CV] END algorithm=ball_tree, n_neighbors=7, weights=uniform; total time=   0.3s\n",
      "[CV] END algorithm=ball_tree, n_neighbors=7, weights=uniform; total time=   0.4s\n",
      "[CV] END algorithm=ball_tree, n_neighbors=7, weights=uniform; total time=   0.4s\n",
      "[CV] END algorithm=ball_tree, n_neighbors=7, weights=distance; total time=   0.3s\n",
      "[CV] END algorithm=ball_tree, n_neighbors=7, weights=distance; total time=   0.3s\n",
      "[CV] END algorithm=ball_tree, n_neighbors=7, weights=distance; total time=   0.3s\n",
      "[CV] END algorithm=ball_tree, n_neighbors=9, weights=uniform; total time=   0.4s\n",
      "[CV] END algorithm=ball_tree, n_neighbors=9, weights=uniform; total time=   0.4s\n",
      "[CV] END algorithm=ball_tree, n_neighbors=9, weights=uniform; total time=   0.4s\n",
      "[CV] END algorithm=ball_tree, n_neighbors=9, weights=distance; total time=   0.3s\n",
      "[CV] END algorithm=ball_tree, n_neighbors=9, weights=distance; total time=   0.3s\n",
      "[CV] END algorithm=ball_tree, n_neighbors=9, weights=distance; total time=   0.3s\n",
      "[CV] END ..algorithm=kd_tree, n_neighbors=3, weights=uniform; total time=   0.2s\n",
      "[CV] END ..algorithm=kd_tree, n_neighbors=3, weights=uniform; total time=   0.1s\n",
      "[CV] END ..algorithm=kd_tree, n_neighbors=3, weights=uniform; total time=   0.1s\n",
      "[CV] END .algorithm=kd_tree, n_neighbors=3, weights=distance; total time=   0.1s\n",
      "[CV] END .algorithm=kd_tree, n_neighbors=3, weights=distance; total time=   0.1s\n",
      "[CV] END .algorithm=kd_tree, n_neighbors=3, weights=distance; total time=   0.1s\n",
      "[CV] END ..algorithm=kd_tree, n_neighbors=4, weights=uniform; total time=   0.2s\n",
      "[CV] END ..algorithm=kd_tree, n_neighbors=4, weights=uniform; total time=   0.2s\n",
      "[CV] END ..algorithm=kd_tree, n_neighbors=4, weights=uniform; total time=   0.2s\n",
      "[CV] END .algorithm=kd_tree, n_neighbors=4, weights=distance; total time=   0.1s\n",
      "[CV] END .algorithm=kd_tree, n_neighbors=4, weights=distance; total time=   0.1s\n",
      "[CV] END .algorithm=kd_tree, n_neighbors=4, weights=distance; total time=   0.1s\n",
      "[CV] END ..algorithm=kd_tree, n_neighbors=5, weights=uniform; total time=   0.2s\n",
      "[CV] END ..algorithm=kd_tree, n_neighbors=5, weights=uniform; total time=   0.2s\n",
      "[CV] END ..algorithm=kd_tree, n_neighbors=5, weights=uniform; total time=   0.2s\n",
      "[CV] END .algorithm=kd_tree, n_neighbors=5, weights=distance; total time=   0.1s\n",
      "[CV] END .algorithm=kd_tree, n_neighbors=5, weights=distance; total time=   0.1s\n",
      "[CV] END .algorithm=kd_tree, n_neighbors=5, weights=distance; total time=   0.1s\n",
      "[CV] END ..algorithm=kd_tree, n_neighbors=7, weights=uniform; total time=   0.2s\n",
      "[CV] END ..algorithm=kd_tree, n_neighbors=7, weights=uniform; total time=   0.2s\n",
      "[CV] END ..algorithm=kd_tree, n_neighbors=7, weights=uniform; total time=   0.2s\n",
      "[CV] END .algorithm=kd_tree, n_neighbors=7, weights=distance; total time=   0.2s\n",
      "[CV] END .algorithm=kd_tree, n_neighbors=7, weights=distance; total time=   0.2s\n",
      "[CV] END .algorithm=kd_tree, n_neighbors=7, weights=distance; total time=   0.2s\n",
      "[CV] END ..algorithm=kd_tree, n_neighbors=9, weights=uniform; total time=   0.2s\n",
      "[CV] END ..algorithm=kd_tree, n_neighbors=9, weights=uniform; total time=   0.2s\n",
      "[CV] END ..algorithm=kd_tree, n_neighbors=9, weights=uniform; total time=   0.2s\n",
      "[CV] END .algorithm=kd_tree, n_neighbors=9, weights=distance; total time=   0.2s\n",
      "[CV] END .algorithm=kd_tree, n_neighbors=9, weights=distance; total time=   0.2s\n",
      "[CV] END .algorithm=kd_tree, n_neighbors=9, weights=distance; total time=   0.2s\n",
      "[CV] END ....algorithm=brute, n_neighbors=3, weights=uniform; total time=   0.0s\n",
      "[CV] END ....algorithm=brute, n_neighbors=3, weights=uniform; total time=   0.0s\n",
      "[CV] END ....algorithm=brute, n_neighbors=3, weights=uniform; total time=   0.0s\n",
      "[CV] END ...algorithm=brute, n_neighbors=3, weights=distance; total time=   0.0s\n",
      "[CV] END ...algorithm=brute, n_neighbors=3, weights=distance; total time=   0.0s\n",
      "[CV] END ...algorithm=brute, n_neighbors=3, weights=distance; total time=   0.0s\n",
      "[CV] END ....algorithm=brute, n_neighbors=4, weights=uniform; total time=   0.0s\n",
      "[CV] END ....algorithm=brute, n_neighbors=4, weights=uniform; total time=   0.0s\n",
      "[CV] END ....algorithm=brute, n_neighbors=4, weights=uniform; total time=   0.1s\n",
      "[CV] END ...algorithm=brute, n_neighbors=4, weights=distance; total time=   0.1s\n",
      "[CV] END ...algorithm=brute, n_neighbors=4, weights=distance; total time=   0.0s\n",
      "[CV] END ...algorithm=brute, n_neighbors=4, weights=distance; total time=   0.0s\n",
      "[CV] END ....algorithm=brute, n_neighbors=5, weights=uniform; total time=   0.0s\n",
      "[CV] END ....algorithm=brute, n_neighbors=5, weights=uniform; total time=   0.0s\n",
      "[CV] END ....algorithm=brute, n_neighbors=5, weights=uniform; total time=   0.0s\n",
      "[CV] END ...algorithm=brute, n_neighbors=5, weights=distance; total time=   0.0s\n",
      "[CV] END ...algorithm=brute, n_neighbors=5, weights=distance; total time=   0.0s\n",
      "[CV] END ...algorithm=brute, n_neighbors=5, weights=distance; total time=   0.0s\n",
      "[CV] END ....algorithm=brute, n_neighbors=7, weights=uniform; total time=   0.0s\n",
      "[CV] END ....algorithm=brute, n_neighbors=7, weights=uniform; total time=   0.0s\n",
      "[CV] END ....algorithm=brute, n_neighbors=7, weights=uniform; total time=   0.0s\n",
      "[CV] END ...algorithm=brute, n_neighbors=7, weights=distance; total time=   0.0s\n",
      "[CV] END ...algorithm=brute, n_neighbors=7, weights=distance; total time=   0.0s\n",
      "[CV] END ...algorithm=brute, n_neighbors=7, weights=distance; total time=   0.0s\n",
      "[CV] END ....algorithm=brute, n_neighbors=9, weights=uniform; total time=   0.0s\n",
      "[CV] END ....algorithm=brute, n_neighbors=9, weights=uniform; total time=   0.0s\n",
      "[CV] END ....algorithm=brute, n_neighbors=9, weights=uniform; total time=   0.0s\n",
      "[CV] END ...algorithm=brute, n_neighbors=9, weights=distance; total time=   0.0s\n",
      "[CV] END ...algorithm=brute, n_neighbors=9, weights=distance; total time=   0.0s\n",
      "[CV] END ...algorithm=brute, n_neighbors=9, weights=distance; total time=   0.0s\n",
      "Fitting 3 folds for each of 12 candidates, totalling 36 fits\n",
      "[CV] END ....................max-depth=3, min_child_weight=1; total time=   0.3s\n",
      "[CV] END ....................max-depth=3, min_child_weight=1; total time=   0.2s\n",
      "[CV] END ....................max-depth=3, min_child_weight=1; total time=   0.2s\n",
      "[CV] END ....................max-depth=3, min_child_weight=3; total time=   0.2s\n",
      "[CV] END ....................max-depth=3, min_child_weight=3; total time=   0.2s\n",
      "[CV] END ....................max-depth=3, min_child_weight=3; total time=   0.2s\n",
      "[CV] END ....................max-depth=3, min_child_weight=5; total time=   0.2s\n",
      "[CV] END ....................max-depth=3, min_child_weight=5; total time=   0.2s\n",
      "[CV] END ....................max-depth=3, min_child_weight=5; total time=   0.2s\n",
      "[CV] END ....................max-depth=5, min_child_weight=1; total time=   0.2s\n",
      "[CV] END ....................max-depth=5, min_child_weight=1; total time=   0.2s\n",
      "[CV] END ....................max-depth=5, min_child_weight=1; total time=   0.3s\n",
      "[CV] END ....................max-depth=5, min_child_weight=3; total time=   0.2s\n",
      "[CV] END ....................max-depth=5, min_child_weight=3; total time=   0.2s\n",
      "[CV] END ....................max-depth=5, min_child_weight=3; total time=   0.2s\n",
      "[CV] END ....................max-depth=5, min_child_weight=5; total time=   0.3s\n",
      "[CV] END ....................max-depth=5, min_child_weight=5; total time=   0.2s\n",
      "[CV] END ....................max-depth=5, min_child_weight=5; total time=   0.2s\n",
      "[CV] END ....................max-depth=7, min_child_weight=1; total time=   0.2s\n",
      "[CV] END ....................max-depth=7, min_child_weight=1; total time=   0.2s\n",
      "[CV] END ....................max-depth=7, min_child_weight=1; total time=   0.2s\n",
      "[CV] END ....................max-depth=7, min_child_weight=3; total time=   0.2s\n",
      "[CV] END ....................max-depth=7, min_child_weight=3; total time=   0.2s\n",
      "[CV] END ....................max-depth=7, min_child_weight=3; total time=   0.2s\n",
      "[CV] END ....................max-depth=7, min_child_weight=5; total time=   0.2s\n",
      "[CV] END ....................max-depth=7, min_child_weight=5; total time=   0.2s\n",
      "[CV] END ....................max-depth=7, min_child_weight=5; total time=   0.2s\n",
      "[CV] END ....................max-depth=9, min_child_weight=1; total time=   0.2s\n",
      "[CV] END ....................max-depth=9, min_child_weight=1; total time=   0.2s\n",
      "[CV] END ....................max-depth=9, min_child_weight=1; total time=   0.2s\n",
      "[CV] END ....................max-depth=9, min_child_weight=3; total time=   0.2s\n",
      "[CV] END ....................max-depth=9, min_child_weight=3; total time=   0.2s\n",
      "[CV] END ....................max-depth=9, min_child_weight=3; total time=   0.2s\n",
      "[CV] END ....................max-depth=9, min_child_weight=5; total time=   0.2s\n",
      "[CV] END ....................max-depth=9, min_child_weight=5; total time=   0.2s\n",
      "[CV] END ....................max-depth=9, min_child_weight=5; total time=   0.2s\n"
     ]
    }
   ],
   "source": [
    "model_param = {}\n",
    "\n",
    "for name, model, params in randomcv_models:\n",
    "  random = RandomizedSearchCV(\n",
    "    estimator=model,\n",
    "    param_distributions=params,\n",
    "    n_iter=100,\n",
    "    cv=3,\n",
    "    verbose=2,\n",
    "    n_jobs=1\n",
    "  )\n",
    "  random.fit(X_res, y_res)\n",
    "  \n",
    "  model_param[name] = random.best_params_\n"
   ]
  },
  {
   "cell_type": "code",
   "execution_count": null,
   "id": "3eb8da7c",
   "metadata": {},
   "outputs": [
    {
     "name": "stdout",
     "output_type": "stream",
     "text": [
      "================= Best Params for Random Forrest ==================\n",
      "{'n_estimators': 200, 'max_features': 'log2', 'max_depth': None}\n",
      "================= Best Params for K-Neighbours Classifier ==================\n",
      "{'weights': 'distance', 'n_neighbors': 3, 'algorithm': 'auto'}\n",
      "================= Best Params for XGB Classifier ==================\n",
      "{'min_child_weight': 1, 'max-depth': 3}\n"
     ]
    }
   ],
   "source": [
    "for model_name in model_param:\n",
    "  print(f\"================= Best Params for {model_name} ==================\")\n",
    "  print(model_param[model_name])\n"
   ]
  },
  {
   "cell_type": "code",
   "execution_count": null,
   "id": "98d07f8c",
   "metadata": {},
   "outputs": [
    {
     "data": {
      "text/plain": [
       "{'Random Forrest': {'n_estimators': 200,\n",
       "  'max_features': 'log2',\n",
       "  'max_depth': None},\n",
       " 'K-Neighbours Classifier': {'weights': 'distance',\n",
       "  'n_neighbors': 3,\n",
       "  'algorithm': 'auto'},\n",
       " 'XGB Classifier': {'min_child_weight': 1, 'max-depth': 3}}"
      ]
     },
     "execution_count": 110,
     "metadata": {},
     "output_type": "execute_result"
    }
   ],
   "source": [
    "model_param\n"
   ]
  },
  {
   "cell_type": "markdown",
   "id": "5bd73ac1",
   "metadata": {},
   "source": [
    "## Retraining the model with the best parameters\n"
   ]
  },
  {
   "cell_type": "code",
   "execution_count": null,
   "id": "4de1de93",
   "metadata": {},
   "outputs": [],
   "source": [
    "from sklearn.metrics import roc_auc_score, roc_curve\n"
   ]
  },
  {
   "cell_type": "code",
   "execution_count": null,
   "id": "6f07feb7",
   "metadata": {},
   "outputs": [
    {
     "name": "stdout",
     "output_type": "stream",
     "text": [
      "Random Forrest\n",
      "Model performance for Training set\n",
      "- Accuracy: 1.0000\n",
      "- F1 Score: 1.0000\n",
      "- Precision: 1.0000\n",
      "- Recall: 1.0000\n",
      "- Roc Auc Score: 1.0000\n",
      "---------------------------------------------------\n",
      "Model performance for Test set\n",
      "- Accuracy: 0.9609\n",
      "- F1 Score: 0.9627\n",
      "- Precision: 0.9600\n",
      "- Recall: 0.9653\n",
      "- Roc Auc Score: 0.9607\n",
      "===================================================\n",
      "K-Neighbours Classifier\n",
      "Model performance for Training set\n",
      "- Accuracy: 1.0000\n",
      "- F1 Score: 1.0000\n",
      "- Precision: 1.0000\n",
      "- Recall: 1.0000\n",
      "- Roc Auc Score: 1.0000\n",
      "---------------------------------------------------\n",
      "Model performance for Test set\n",
      "- Accuracy: 0.9781\n",
      "- F1 Score: 0.9791\n",
      "- Precision: 0.9747\n",
      "- Recall: 0.9836\n",
      "- Roc Auc Score: 0.9778\n",
      "===================================================\n",
      "XGB Classifier\n",
      "Model performance for Training set\n",
      "- Accuracy: 0.9816\n",
      "- F1 Score: 0.9821\n",
      "- Precision: 0.9835\n",
      "- Recall: 0.9808\n",
      "- Roc Auc Score: 0.9816\n",
      "---------------------------------------------------\n",
      "Model performance for Test set\n",
      "- Accuracy: 0.9416\n",
      "- F1 Score: 0.9439\n",
      "- Precision: 0.9462\n",
      "- Recall: 0.9416\n",
      "- Roc Auc Score: 0.9415\n",
      "===================================================\n"
     ]
    }
   ],
   "source": [
    "best_models ={\n",
    "  \"Random Forrest\": RandomForestClassifier(**model_param[\"Random Forrest\"]),\n",
    "  \"K-Neighbours Classifier\": KNeighborsClassifier(**model_param[\"K-Neighbours Classifier\"]),\n",
    "  \"XGB Classifier\": XGBClassifier(**model_param[\"XGB Classifier\"]),\n",
    "}\n",
    "tuned_report = evaluate_models(X=X_res, y=y_res, models=best_models)\n"
   ]
  },
  {
   "cell_type": "code",
   "execution_count": null,
   "id": "7f5c2784",
   "metadata": {},
   "outputs": [
    {
     "data": {
      "application/vnd.microsoft.datawrangler.viewer.v0+json": {
       "columns": [
        {
         "name": "index",
         "rawType": "int64",
         "type": "integer"
        },
        {
         "name": "Model Name",
         "rawType": "object",
         "type": "string"
        },
        {
         "name": "Accuracy",
         "rawType": "float64",
         "type": "float"
        }
       ],
       "ref": "65891d1a-5cee-4a25-a1c1-ab0a4840d6e9",
       "rows": [
        [
         "1",
         "K-Neighbours Classifier",
         "0.9780813214739518"
        ],
        [
         "0",
         "Random Forrest",
         "0.9609275730622617"
        ],
        [
         "2",
         "XGB Classifier",
         "0.9415501905972046"
        ]
       ],
       "shape": {
        "columns": 2,
        "rows": 3
       }
      },
      "text/html": [
       "<div>\n",
       "<style scoped>\n",
       "    .dataframe tbody tr th:only-of-type {\n",
       "        vertical-align: middle;\n",
       "    }\n",
       "\n",
       "    .dataframe tbody tr th {\n",
       "        vertical-align: top;\n",
       "    }\n",
       "\n",
       "    .dataframe thead th {\n",
       "        text-align: right;\n",
       "    }\n",
       "</style>\n",
       "<table border=\"1\" class=\"dataframe\">\n",
       "  <thead>\n",
       "    <tr style=\"text-align: right;\">\n",
       "      <th></th>\n",
       "      <th>Model Name</th>\n",
       "      <th>Accuracy</th>\n",
       "    </tr>\n",
       "  </thead>\n",
       "  <tbody>\n",
       "    <tr>\n",
       "      <th>1</th>\n",
       "      <td>K-Neighbours Classifier</td>\n",
       "      <td>0.978081</td>\n",
       "    </tr>\n",
       "    <tr>\n",
       "      <th>0</th>\n",
       "      <td>Random Forrest</td>\n",
       "      <td>0.960928</td>\n",
       "    </tr>\n",
       "    <tr>\n",
       "      <th>2</th>\n",
       "      <td>XGB Classifier</td>\n",
       "      <td>0.941550</td>\n",
       "    </tr>\n",
       "  </tbody>\n",
       "</table>\n",
       "</div>"
      ],
      "text/plain": [
       "                Model Name  Accuracy\n",
       "1  K-Neighbours Classifier  0.978081\n",
       "0           Random Forrest  0.960928\n",
       "2           XGB Classifier  0.941550"
      ]
     },
     "execution_count": 115,
     "metadata": {},
     "output_type": "execute_result"
    }
   ],
   "source": [
    "tuned_report\n"
   ]
  },
  {
   "cell_type": "code",
   "execution_count": null,
   "id": "6a01684a",
   "metadata": {},
   "outputs": [
    {
     "name": "stdout",
     "output_type": "stream",
     "text": [
      "Final model 'KNN\n",
      "Accuracy score value: 0.9794\n",
      "              precision    recall  f1-score   support\n",
      "\n",
      "           0       0.98      0.98      0.98      1486\n",
      "           1       0.98      0.98      0.98      1662\n",
      "\n",
      "    accuracy                           0.98      3148\n",
      "   macro avg       0.98      0.98      0.98      3148\n",
      "weighted avg       0.98      0.98      0.98      3148\n",
      "\n"
     ]
    }
   ],
   "source": [
    "best_model =KNeighborsClassifier(**model_param[\"K-Neighbours Classifier\"])\n",
    "best_model = best_model.fit(X_train, y_train)\n",
    "y_pred = best_model.predict(X_test)\n",
    "score = accuracy_score(y_test, y_pred)\n",
    "cr = classification_report(y_test, y_pred)\n",
    "\n",
    "print(\"Final model 'KNN\")\n",
    "print(\"Accuracy score value: {:.4f}\".format(score))\n",
    "print(cr)\n"
   ]
  },
  {
   "cell_type": "code",
   "execution_count": null,
   "id": "b4982a8f",
   "metadata": {},
   "outputs": [
    {
     "data": {
      "text/plain": [
       "<sklearn.metrics._plot.confusion_matrix.ConfusionMatrixDisplay at 0x348d60850>"
      ]
     },
     "execution_count": 117,
     "metadata": {},
     "output_type": "execute_result"
    },
    {
     "data": {
      "image/png": "[encoded data removed]",
      "text/plain": [
       "<Figure size 640x480 with 2 Axes>"
      ]
     },
     "metadata": {},
     "output_type": "display_data"
    }
   ],
   "source": [
    "ConfusionMatrixDisplay.from_estimator(best_model, X_test, y_test)\n"
   ]
  },
  {
   "cell_type": "code",
   "execution_count": null,
   "id": "64d40571",
   "metadata": {},
   "outputs": [],
   "source": []
  }
 ],
 "metadata": {
  "kernelspec": {
   "display_name": "Py-UsVisa",
   "language": "python",
   "name": "python3"
  },
  "language_info": {
   "codemirror_mode": {
    "name": "ipython",
    "version": 3
   },
   "file_extension": ".py",
   "mimetype": "text/x-python",
   "name": "python",
   "nbconvert_exporter": "python",
   "pygments_lexer": "ipython3",
   "version": "3.8.20"
  }
 },
 "nbformat": 4,
 "nbformat_minor": 5
}
